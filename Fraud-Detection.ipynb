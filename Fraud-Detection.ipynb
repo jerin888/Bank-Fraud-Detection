{
  "cells": [
    {
      "cell_type": "markdown",
      "metadata": {
        "id": "58fa2d6b-5d93-4b41-9e70-eb5a44cdd99f"
      },
      "source": [
        "# CS 613: Machine Learning <br> Final Project: Fraud Detection"
      ],
      "id": "58fa2d6b-5d93-4b41-9e70-eb5a44cdd99f"
    },
    {
      "cell_type": "markdown",
      "metadata": {
        "id": "oJhd0Ak1tvWB"
      },
      "source": [
        "## <u>Team Overview"
      ],
      "id": "oJhd0Ak1tvWB"
    },
    {
      "cell_type": "markdown",
      "metadata": {
        "id": "uTqdgov1utn3"
      },
      "source": [
        "- Group member 1\n",
        "    - Name: Jerin Philip\n",
        "    - Email: jp3839@drexel.edu\n",
        "    - Currently pursuing Masters in Computer Science at Drexel University.I did my undergrad in Computer Science and Engineering. I have 3 years of experience as a Software Engineer and have worked on a variety of tech stacks including Java,Python,Django,HTML,JS,SQL,ETL(Tagetik),RPA(UiPath),SAP Hana etc.\n",
        "- Group member 2\n",
        "    - Name: Kartik Vora\n",
        "    - Email: kav73@drexel.edu\n",
        "    - Undergrad in Computer Engineering, Master's degree in Computer Science with 8 years of work experience as software developer. I have had experience for working in various domains like Middleware application development, Web development, Data Science and ML. I have learnt and worked on a variety of technology stack which includes BizTalk, C#, Python, .NET MVC, java, HTML/CSS, Jquery, SQL, Cloud - AWS, Azure."
      ],
      "id": "uTqdgov1utn3"
    },
    {
      "cell_type": "markdown",
      "metadata": {
        "id": "_N1Pib99vCps"
      },
      "source": [
        "## <u>Project Overview ##"
      ],
      "id": "_N1Pib99vCps"
    },
    {
      "cell_type": "markdown",
      "metadata": {
        "id": "TfqEqTSBvENL"
      },
      "source": [
        "Financial fraud, considered as deceptive tactics for gaining financial benefits, has recently become a widespread menace in companies and organizations. Conventional techniques such as manual verifications and inspections are imprecise, costly, and time consuming for identifying such fraudulent activities. With the advent of artificial intelligence, machine-learning-based approaches can be used intelligently to detect fraudulent transactions by analyzing a large number of financial data. In this paper we use a popular fraud detection dataset from Kaggle to train different ML models and compare the accuracy and efficiency of these models."
      ],
      "id": "TfqEqTSBvENL"
    },
    {
      "cell_type": "markdown",
      "metadata": {
        "id": "3kB5ZZFovqdh"
      },
      "source": [
        "## DataSet\n",
        "\n",
        "This dataset from [Kaggle](https://www.kaggle.com/datasets/ranjeetshrivastav/fraud-detection-dataset) on bank transactions and an label column which indicates whether the transaction was fraud or not. The data is in JSON format"
      ],
      "id": "3kB5ZZFovqdh"
    },
    {
      "cell_type": "markdown",
      "metadata": {
        "id": "LXZ_pXVyq152"
      },
      "source": [
        "### Reading the fraud detection data into pandas dataframe"
      ],
      "id": "LXZ_pXVyq152"
    },
    {
      "cell_type": "markdown",
      "metadata": {
        "id": "hvtccRPcyxy9"
      },
      "source": [
        "Importing the necessary libraries"
      ],
      "id": "hvtccRPcyxy9"
    },
    {
      "cell_type": "code",
      "execution_count": 1,
      "metadata": {
        "id": "aef2a7b8-005f-4a61-bf06-38adfe929754"
      },
      "outputs": [],
      "source": [
        "import zipfile\n",
        "import numpy as np \n",
        "import pandas as pd\n",
        "import sklearn as sk\n",
        "import seaborn as sns\n",
        "import matplotlib.pyplot as plt\n",
        "from collections import Counter\n",
        "from imblearn.over_sampling import SMOTE\n",
        "from sklearn.preprocessing import LabelEncoder\n",
        "from statsmodels.stats.outliers_influence import variance_inflation_factor\n",
        "from sklearn.model_selection import train_test_split\n",
        "from sklearn.metrics import auc\n",
        "from sklearn.metrics import f1_score\n",
        "from sklearn.metrics import accuracy_score\n",
        "from sklearn.metrics import confusion_matrix\n",
        "from sklearn.metrics import classification_report\n",
        "from sklearn.metrics import ConfusionMatrixDisplay\n",
        "from sklearn.metrics import precision_recall_curve\n",
        "from sklearn.model_selection import validation_curve\n",
        "from sklearn.dummy import DummyClassifier\n",
        "from sklearn import metrics\n",
        "from sklearn.linear_model import LogisticRegression\n",
        "from sklearn.ensemble import RandomForestClassifier\n",
        "from sklearn import tree\n",
        "from sklearn.tree import DecisionTreeClassifier\n",
        "from sklearn import tree\n",
        "from sklearn.tree import DecisionTreeClassifier\n",
        "from sklearn.metrics import log_loss\n",
        "from sklearn.metrics import classification_report, confusion_matrix\n",
        "import itertools\n",
        "from sklearn.preprocessing import OneHotEncoder\n",
        "from sklearn.metrics import precision_recall_fscore_support as score\n",
        "from sklearn.metrics import classification_report\n",
        "from sklearn.metrics import confusion_matrix"
      ],
      "id": "aef2a7b8-005f-4a61-bf06-38adfe929754"
    },
    {
      "cell_type": "markdown",
      "metadata": {
        "id": "dixihF1trkTY"
      },
      "source": [
        "Unzipping the data file and loading into pandas dataframe"
      ],
      "id": "dixihF1trkTY"
    },
    {
      "cell_type": "code",
      "execution_count": 2,
      "metadata": {
        "id": "b479ac82-04ba-4022-b555-76b4c7678d62"
      },
      "outputs": [],
      "source": [
        "bank_fraud = zipfile.ZipFile('bank_fraud.zip', 'r')\n",
        "data_file = bank_fraud.open('transactions/transactions.txt')\n",
        "df = pd.read_json(data_file, lines=True)"
      ],
      "id": "b479ac82-04ba-4022-b555-76b4c7678d62"
    },
    {
      "cell_type": "markdown",
      "metadata": {
        "id": "hLUsTu3Us1f0"
      },
      "source": [
        "Viewing and Analysing the data"
      ],
      "id": "hLUsTu3Us1f0"
    },
    {
      "cell_type": "code",
      "execution_count": 3,
      "metadata": {
        "id": "2MzjtUpL4Coy"
      },
      "outputs": [],
      "source": [
        "pd.set_option('display.max_rows', None)"
      ],
      "id": "2MzjtUpL4Coy"
    },
    {
      "cell_type": "code",
      "execution_count": 4,
      "metadata": {
        "colab": {
          "base_uri": "https://localhost:8080/",
          "height": 317
        },
        "id": "818e544a-b3e0-4eed-9474-c329b94e4c96",
        "outputId": "500c5927-e574-4b14-a080-79df3743d96e"
      },
      "outputs": [
        {
          "output_type": "execute_result",
          "data": {
            "text/plain": [
              "   accountNumber  customerId  creditLimit  availableMoney  \\\n",
              "0      737265056   737265056         5000          5000.0   \n",
              "1      737265056   737265056         5000          5000.0   \n",
              "2      737265056   737265056         5000          5000.0   \n",
              "3      737265056   737265056         5000          5000.0   \n",
              "4      830329091   830329091         5000          5000.0   \n",
              "\n",
              "   transactionDateTime  transactionAmount         merchantName acqCountry  \\\n",
              "0  2016-08-13T14:27:32              98.55                 Uber         US   \n",
              "1  2016-10-11T05:05:54              74.51          AMC #191138         US   \n",
              "2  2016-11-08T09:18:39               7.47           Play Store         US   \n",
              "3  2016-12-10T02:14:50               7.47           Play Store         US   \n",
              "4  2016-03-24T21:04:46              71.18  Tim Hortons #947751         US   \n",
              "\n",
              "  merchantCountryCode posEntryMode  ... echoBuffer currentBalance  \\\n",
              "0                  US           02  ...                       0.0   \n",
              "1                  US           09  ...                       0.0   \n",
              "2                  US           09  ...                       0.0   \n",
              "3                  US           09  ...                       0.0   \n",
              "4                  US           02  ...                       0.0   \n",
              "\n",
              "  merchantCity merchantState merchantZip  cardPresent  posOnPremises  \\\n",
              "0                                               False                  \n",
              "1                                                True                  \n",
              "2                                               False                  \n",
              "3                                               False                  \n",
              "4                                                True                  \n",
              "\n",
              "   recurringAuthInd expirationDateKeyInMatch isFraud  \n",
              "0                                      False   False  \n",
              "1                                      False   False  \n",
              "2                                      False   False  \n",
              "3                                      False   False  \n",
              "4                                      False   False  \n",
              "\n",
              "[5 rows x 29 columns]"
            ],
            "text/html": [
              "\n",
              "  <div id=\"df-35425cbf-7d7f-4f0a-9fea-c394d5ae6059\">\n",
              "    <div class=\"colab-df-container\">\n",
              "      <div>\n",
              "<style scoped>\n",
              "    .dataframe tbody tr th:only-of-type {\n",
              "        vertical-align: middle;\n",
              "    }\n",
              "\n",
              "    .dataframe tbody tr th {\n",
              "        vertical-align: top;\n",
              "    }\n",
              "\n",
              "    .dataframe thead th {\n",
              "        text-align: right;\n",
              "    }\n",
              "</style>\n",
              "<table border=\"1\" class=\"dataframe\">\n",
              "  <thead>\n",
              "    <tr style=\"text-align: right;\">\n",
              "      <th></th>\n",
              "      <th>accountNumber</th>\n",
              "      <th>customerId</th>\n",
              "      <th>creditLimit</th>\n",
              "      <th>availableMoney</th>\n",
              "      <th>transactionDateTime</th>\n",
              "      <th>transactionAmount</th>\n",
              "      <th>merchantName</th>\n",
              "      <th>acqCountry</th>\n",
              "      <th>merchantCountryCode</th>\n",
              "      <th>posEntryMode</th>\n",
              "      <th>...</th>\n",
              "      <th>echoBuffer</th>\n",
              "      <th>currentBalance</th>\n",
              "      <th>merchantCity</th>\n",
              "      <th>merchantState</th>\n",
              "      <th>merchantZip</th>\n",
              "      <th>cardPresent</th>\n",
              "      <th>posOnPremises</th>\n",
              "      <th>recurringAuthInd</th>\n",
              "      <th>expirationDateKeyInMatch</th>\n",
              "      <th>isFraud</th>\n",
              "    </tr>\n",
              "  </thead>\n",
              "  <tbody>\n",
              "    <tr>\n",
              "      <th>0</th>\n",
              "      <td>737265056</td>\n",
              "      <td>737265056</td>\n",
              "      <td>5000</td>\n",
              "      <td>5000.0</td>\n",
              "      <td>2016-08-13T14:27:32</td>\n",
              "      <td>98.55</td>\n",
              "      <td>Uber</td>\n",
              "      <td>US</td>\n",
              "      <td>US</td>\n",
              "      <td>02</td>\n",
              "      <td>...</td>\n",
              "      <td></td>\n",
              "      <td>0.0</td>\n",
              "      <td></td>\n",
              "      <td></td>\n",
              "      <td></td>\n",
              "      <td>False</td>\n",
              "      <td></td>\n",
              "      <td></td>\n",
              "      <td>False</td>\n",
              "      <td>False</td>\n",
              "    </tr>\n",
              "    <tr>\n",
              "      <th>1</th>\n",
              "      <td>737265056</td>\n",
              "      <td>737265056</td>\n",
              "      <td>5000</td>\n",
              "      <td>5000.0</td>\n",
              "      <td>2016-10-11T05:05:54</td>\n",
              "      <td>74.51</td>\n",
              "      <td>AMC #191138</td>\n",
              "      <td>US</td>\n",
              "      <td>US</td>\n",
              "      <td>09</td>\n",
              "      <td>...</td>\n",
              "      <td></td>\n",
              "      <td>0.0</td>\n",
              "      <td></td>\n",
              "      <td></td>\n",
              "      <td></td>\n",
              "      <td>True</td>\n",
              "      <td></td>\n",
              "      <td></td>\n",
              "      <td>False</td>\n",
              "      <td>False</td>\n",
              "    </tr>\n",
              "    <tr>\n",
              "      <th>2</th>\n",
              "      <td>737265056</td>\n",
              "      <td>737265056</td>\n",
              "      <td>5000</td>\n",
              "      <td>5000.0</td>\n",
              "      <td>2016-11-08T09:18:39</td>\n",
              "      <td>7.47</td>\n",
              "      <td>Play Store</td>\n",
              "      <td>US</td>\n",
              "      <td>US</td>\n",
              "      <td>09</td>\n",
              "      <td>...</td>\n",
              "      <td></td>\n",
              "      <td>0.0</td>\n",
              "      <td></td>\n",
              "      <td></td>\n",
              "      <td></td>\n",
              "      <td>False</td>\n",
              "      <td></td>\n",
              "      <td></td>\n",
              "      <td>False</td>\n",
              "      <td>False</td>\n",
              "    </tr>\n",
              "    <tr>\n",
              "      <th>3</th>\n",
              "      <td>737265056</td>\n",
              "      <td>737265056</td>\n",
              "      <td>5000</td>\n",
              "      <td>5000.0</td>\n",
              "      <td>2016-12-10T02:14:50</td>\n",
              "      <td>7.47</td>\n",
              "      <td>Play Store</td>\n",
              "      <td>US</td>\n",
              "      <td>US</td>\n",
              "      <td>09</td>\n",
              "      <td>...</td>\n",
              "      <td></td>\n",
              "      <td>0.0</td>\n",
              "      <td></td>\n",
              "      <td></td>\n",
              "      <td></td>\n",
              "      <td>False</td>\n",
              "      <td></td>\n",
              "      <td></td>\n",
              "      <td>False</td>\n",
              "      <td>False</td>\n",
              "    </tr>\n",
              "    <tr>\n",
              "      <th>4</th>\n",
              "      <td>830329091</td>\n",
              "      <td>830329091</td>\n",
              "      <td>5000</td>\n",
              "      <td>5000.0</td>\n",
              "      <td>2016-03-24T21:04:46</td>\n",
              "      <td>71.18</td>\n",
              "      <td>Tim Hortons #947751</td>\n",
              "      <td>US</td>\n",
              "      <td>US</td>\n",
              "      <td>02</td>\n",
              "      <td>...</td>\n",
              "      <td></td>\n",
              "      <td>0.0</td>\n",
              "      <td></td>\n",
              "      <td></td>\n",
              "      <td></td>\n",
              "      <td>True</td>\n",
              "      <td></td>\n",
              "      <td></td>\n",
              "      <td>False</td>\n",
              "      <td>False</td>\n",
              "    </tr>\n",
              "  </tbody>\n",
              "</table>\n",
              "<p>5 rows × 29 columns</p>\n",
              "</div>\n",
              "      <button class=\"colab-df-convert\" onclick=\"convertToInteractive('df-35425cbf-7d7f-4f0a-9fea-c394d5ae6059')\"\n",
              "              title=\"Convert this dataframe to an interactive table.\"\n",
              "              style=\"display:none;\">\n",
              "        \n",
              "  <svg xmlns=\"http://www.w3.org/2000/svg\" height=\"24px\"viewBox=\"0 0 24 24\"\n",
              "       width=\"24px\">\n",
              "    <path d=\"M0 0h24v24H0V0z\" fill=\"none\"/>\n",
              "    <path d=\"M18.56 5.44l.94 2.06.94-2.06 2.06-.94-2.06-.94-.94-2.06-.94 2.06-2.06.94zm-11 1L8.5 8.5l.94-2.06 2.06-.94-2.06-.94L8.5 2.5l-.94 2.06-2.06.94zm10 10l.94 2.06.94-2.06 2.06-.94-2.06-.94-.94-2.06-.94 2.06-2.06.94z\"/><path d=\"M17.41 7.96l-1.37-1.37c-.4-.4-.92-.59-1.43-.59-.52 0-1.04.2-1.43.59L10.3 9.45l-7.72 7.72c-.78.78-.78 2.05 0 2.83L4 21.41c.39.39.9.59 1.41.59.51 0 1.02-.2 1.41-.59l7.78-7.78 2.81-2.81c.8-.78.8-2.07 0-2.86zM5.41 20L4 18.59l7.72-7.72 1.47 1.35L5.41 20z\"/>\n",
              "  </svg>\n",
              "      </button>\n",
              "      \n",
              "  <style>\n",
              "    .colab-df-container {\n",
              "      display:flex;\n",
              "      flex-wrap:wrap;\n",
              "      gap: 12px;\n",
              "    }\n",
              "\n",
              "    .colab-df-convert {\n",
              "      background-color: #E8F0FE;\n",
              "      border: none;\n",
              "      border-radius: 50%;\n",
              "      cursor: pointer;\n",
              "      display: none;\n",
              "      fill: #1967D2;\n",
              "      height: 32px;\n",
              "      padding: 0 0 0 0;\n",
              "      width: 32px;\n",
              "    }\n",
              "\n",
              "    .colab-df-convert:hover {\n",
              "      background-color: #E2EBFA;\n",
              "      box-shadow: 0px 1px 2px rgba(60, 64, 67, 0.3), 0px 1px 3px 1px rgba(60, 64, 67, 0.15);\n",
              "      fill: #174EA6;\n",
              "    }\n",
              "\n",
              "    [theme=dark] .colab-df-convert {\n",
              "      background-color: #3B4455;\n",
              "      fill: #D2E3FC;\n",
              "    }\n",
              "\n",
              "    [theme=dark] .colab-df-convert:hover {\n",
              "      background-color: #434B5C;\n",
              "      box-shadow: 0px 1px 3px 1px rgba(0, 0, 0, 0.15);\n",
              "      filter: drop-shadow(0px 1px 2px rgba(0, 0, 0, 0.3));\n",
              "      fill: #FFFFFF;\n",
              "    }\n",
              "  </style>\n",
              "\n",
              "      <script>\n",
              "        const buttonEl =\n",
              "          document.querySelector('#df-35425cbf-7d7f-4f0a-9fea-c394d5ae6059 button.colab-df-convert');\n",
              "        buttonEl.style.display =\n",
              "          google.colab.kernel.accessAllowed ? 'block' : 'none';\n",
              "\n",
              "        async function convertToInteractive(key) {\n",
              "          const element = document.querySelector('#df-35425cbf-7d7f-4f0a-9fea-c394d5ae6059');\n",
              "          const dataTable =\n",
              "            await google.colab.kernel.invokeFunction('convertToInteractive',\n",
              "                                                     [key], {});\n",
              "          if (!dataTable) return;\n",
              "\n",
              "          const docLinkHtml = 'Like what you see? Visit the ' +\n",
              "            '<a target=\"_blank\" href=https://colab.research.google.com/notebooks/data_table.ipynb>data table notebook</a>'\n",
              "            + ' to learn more about interactive tables.';\n",
              "          element.innerHTML = '';\n",
              "          dataTable['output_type'] = 'display_data';\n",
              "          await google.colab.output.renderOutput(dataTable, element);\n",
              "          const docLink = document.createElement('div');\n",
              "          docLink.innerHTML = docLinkHtml;\n",
              "          element.appendChild(docLink);\n",
              "        }\n",
              "      </script>\n",
              "    </div>\n",
              "  </div>\n",
              "  "
            ]
          },
          "metadata": {},
          "execution_count": 4
        }
      ],
      "source": [
        "df.head()"
      ],
      "id": "818e544a-b3e0-4eed-9474-c329b94e4c96"
    },
    {
      "cell_type": "code",
      "execution_count": 5,
      "metadata": {
        "colab": {
          "base_uri": "https://localhost:8080/"
        },
        "id": "3z2fCU7S4ySz",
        "outputId": "f0cf572d-71c4-47f3-e6fa-db838bdd781b"
      },
      "outputs": [
        {
          "output_type": "stream",
          "name": "stdout",
          "text": [
            "Shape of data: (786363, 29)\n"
          ]
        }
      ],
      "source": [
        "print('Shape of data: '+ str(df.shape))"
      ],
      "id": "3z2fCU7S4ySz"
    },
    {
      "cell_type": "code",
      "execution_count": 6,
      "metadata": {
        "colab": {
          "base_uri": "https://localhost:8080/"
        },
        "id": "670618ce-4678-43c8-ab40-3189604578b6",
        "outputId": "6668606a-562d-4553-d1a1-05f551a35c9a"
      },
      "outputs": [
        {
          "output_type": "stream",
          "name": "stdout",
          "text": [
            "<class 'pandas.core.frame.DataFrame'>\n",
            "RangeIndex: 786363 entries, 0 to 786362\n",
            "Data columns (total 29 columns):\n",
            " #   Column                    Non-Null Count   Dtype  \n",
            "---  ------                    --------------   -----  \n",
            " 0   accountNumber             786363 non-null  int64  \n",
            " 1   customerId                786363 non-null  int64  \n",
            " 2   creditLimit               786363 non-null  int64  \n",
            " 3   availableMoney            786363 non-null  float64\n",
            " 4   transactionDateTime       786363 non-null  object \n",
            " 5   transactionAmount         786363 non-null  float64\n",
            " 6   merchantName              786363 non-null  object \n",
            " 7   acqCountry                786363 non-null  object \n",
            " 8   merchantCountryCode       786363 non-null  object \n",
            " 9   posEntryMode              786363 non-null  object \n",
            " 10  posConditionCode          786363 non-null  object \n",
            " 11  merchantCategoryCode      786363 non-null  object \n",
            " 12  currentExpDate            786363 non-null  object \n",
            " 13  accountOpenDate           786363 non-null  object \n",
            " 14  dateOfLastAddressChange   786363 non-null  object \n",
            " 15  cardCVV                   786363 non-null  int64  \n",
            " 16  enteredCVV                786363 non-null  int64  \n",
            " 17  cardLast4Digits           786363 non-null  int64  \n",
            " 18  transactionType           786363 non-null  object \n",
            " 19  echoBuffer                786363 non-null  object \n",
            " 20  currentBalance            786363 non-null  float64\n",
            " 21  merchantCity              786363 non-null  object \n",
            " 22  merchantState             786363 non-null  object \n",
            " 23  merchantZip               786363 non-null  object \n",
            " 24  cardPresent               786363 non-null  bool   \n",
            " 25  posOnPremises             786363 non-null  object \n",
            " 26  recurringAuthInd          786363 non-null  object \n",
            " 27  expirationDateKeyInMatch  786363 non-null  bool   \n",
            " 28  isFraud                   786363 non-null  bool   \n",
            "dtypes: bool(3), float64(3), int64(6), object(17)\n",
            "memory usage: 158.2+ MB\n"
          ]
        }
      ],
      "source": [
        "df.info()"
      ],
      "id": "670618ce-4678-43c8-ab40-3189604578b6"
    },
    {
      "cell_type": "code",
      "execution_count": 7,
      "metadata": {
        "colab": {
          "base_uri": "https://localhost:8080/",
          "height": 364
        },
        "id": "6add600a-fd62-4f3c-bca1-06651b16e017",
        "outputId": "3c2d6648-2eef-4f07-8f3f-3c2517716f6e"
      },
      "outputs": [
        {
          "output_type": "execute_result",
          "data": {
            "text/plain": [
              "       accountNumber    customerId    creditLimit  availableMoney  \\\n",
              "count   7.863630e+05  7.863630e+05  786363.000000   786363.000000   \n",
              "mean    5.372326e+08  5.372326e+08   10759.464459     6250.725369   \n",
              "std     2.554211e+08  2.554211e+08   11636.174890     8880.783989   \n",
              "min     1.000881e+08  1.000881e+08     250.000000    -1005.630000   \n",
              "25%     3.301333e+08  3.301333e+08    5000.000000     1077.420000   \n",
              "50%     5.074561e+08  5.074561e+08    7500.000000     3184.860000   \n",
              "75%     7.676200e+08  7.676200e+08   15000.000000     7500.000000   \n",
              "max     9.993896e+08  9.993896e+08   50000.000000    50000.000000   \n",
              "\n",
              "       transactionAmount        cardCVV     enteredCVV  cardLast4Digits  \\\n",
              "count      786363.000000  786363.000000  786363.000000    786363.000000   \n",
              "mean          136.985791     544.467338     544.183857      4757.417799   \n",
              "std           147.725569     261.524220     261.551254      2996.583810   \n",
              "min             0.000000     100.000000       0.000000         0.000000   \n",
              "25%            33.650000     310.000000     310.000000      2178.000000   \n",
              "50%            87.900000     535.000000     535.000000      4733.000000   \n",
              "75%           191.480000     785.000000     785.000000      7338.000000   \n",
              "max          2011.540000     998.000000     998.000000      9998.000000   \n",
              "\n",
              "       currentBalance  \n",
              "count   786363.000000  \n",
              "mean      4508.739089  \n",
              "std       6457.442068  \n",
              "min          0.000000  \n",
              "25%        689.910000  \n",
              "50%       2451.760000  \n",
              "75%       5291.095000  \n",
              "max      47498.810000  "
            ],
            "text/html": [
              "\n",
              "  <div id=\"df-3707c68f-71ab-49d5-8914-e47c0197377d\">\n",
              "    <div class=\"colab-df-container\">\n",
              "      <div>\n",
              "<style scoped>\n",
              "    .dataframe tbody tr th:only-of-type {\n",
              "        vertical-align: middle;\n",
              "    }\n",
              "\n",
              "    .dataframe tbody tr th {\n",
              "        vertical-align: top;\n",
              "    }\n",
              "\n",
              "    .dataframe thead th {\n",
              "        text-align: right;\n",
              "    }\n",
              "</style>\n",
              "<table border=\"1\" class=\"dataframe\">\n",
              "  <thead>\n",
              "    <tr style=\"text-align: right;\">\n",
              "      <th></th>\n",
              "      <th>accountNumber</th>\n",
              "      <th>customerId</th>\n",
              "      <th>creditLimit</th>\n",
              "      <th>availableMoney</th>\n",
              "      <th>transactionAmount</th>\n",
              "      <th>cardCVV</th>\n",
              "      <th>enteredCVV</th>\n",
              "      <th>cardLast4Digits</th>\n",
              "      <th>currentBalance</th>\n",
              "    </tr>\n",
              "  </thead>\n",
              "  <tbody>\n",
              "    <tr>\n",
              "      <th>count</th>\n",
              "      <td>7.863630e+05</td>\n",
              "      <td>7.863630e+05</td>\n",
              "      <td>786363.000000</td>\n",
              "      <td>786363.000000</td>\n",
              "      <td>786363.000000</td>\n",
              "      <td>786363.000000</td>\n",
              "      <td>786363.000000</td>\n",
              "      <td>786363.000000</td>\n",
              "      <td>786363.000000</td>\n",
              "    </tr>\n",
              "    <tr>\n",
              "      <th>mean</th>\n",
              "      <td>5.372326e+08</td>\n",
              "      <td>5.372326e+08</td>\n",
              "      <td>10759.464459</td>\n",
              "      <td>6250.725369</td>\n",
              "      <td>136.985791</td>\n",
              "      <td>544.467338</td>\n",
              "      <td>544.183857</td>\n",
              "      <td>4757.417799</td>\n",
              "      <td>4508.739089</td>\n",
              "    </tr>\n",
              "    <tr>\n",
              "      <th>std</th>\n",
              "      <td>2.554211e+08</td>\n",
              "      <td>2.554211e+08</td>\n",
              "      <td>11636.174890</td>\n",
              "      <td>8880.783989</td>\n",
              "      <td>147.725569</td>\n",
              "      <td>261.524220</td>\n",
              "      <td>261.551254</td>\n",
              "      <td>2996.583810</td>\n",
              "      <td>6457.442068</td>\n",
              "    </tr>\n",
              "    <tr>\n",
              "      <th>min</th>\n",
              "      <td>1.000881e+08</td>\n",
              "      <td>1.000881e+08</td>\n",
              "      <td>250.000000</td>\n",
              "      <td>-1005.630000</td>\n",
              "      <td>0.000000</td>\n",
              "      <td>100.000000</td>\n",
              "      <td>0.000000</td>\n",
              "      <td>0.000000</td>\n",
              "      <td>0.000000</td>\n",
              "    </tr>\n",
              "    <tr>\n",
              "      <th>25%</th>\n",
              "      <td>3.301333e+08</td>\n",
              "      <td>3.301333e+08</td>\n",
              "      <td>5000.000000</td>\n",
              "      <td>1077.420000</td>\n",
              "      <td>33.650000</td>\n",
              "      <td>310.000000</td>\n",
              "      <td>310.000000</td>\n",
              "      <td>2178.000000</td>\n",
              "      <td>689.910000</td>\n",
              "    </tr>\n",
              "    <tr>\n",
              "      <th>50%</th>\n",
              "      <td>5.074561e+08</td>\n",
              "      <td>5.074561e+08</td>\n",
              "      <td>7500.000000</td>\n",
              "      <td>3184.860000</td>\n",
              "      <td>87.900000</td>\n",
              "      <td>535.000000</td>\n",
              "      <td>535.000000</td>\n",
              "      <td>4733.000000</td>\n",
              "      <td>2451.760000</td>\n",
              "    </tr>\n",
              "    <tr>\n",
              "      <th>75%</th>\n",
              "      <td>7.676200e+08</td>\n",
              "      <td>7.676200e+08</td>\n",
              "      <td>15000.000000</td>\n",
              "      <td>7500.000000</td>\n",
              "      <td>191.480000</td>\n",
              "      <td>785.000000</td>\n",
              "      <td>785.000000</td>\n",
              "      <td>7338.000000</td>\n",
              "      <td>5291.095000</td>\n",
              "    </tr>\n",
              "    <tr>\n",
              "      <th>max</th>\n",
              "      <td>9.993896e+08</td>\n",
              "      <td>9.993896e+08</td>\n",
              "      <td>50000.000000</td>\n",
              "      <td>50000.000000</td>\n",
              "      <td>2011.540000</td>\n",
              "      <td>998.000000</td>\n",
              "      <td>998.000000</td>\n",
              "      <td>9998.000000</td>\n",
              "      <td>47498.810000</td>\n",
              "    </tr>\n",
              "  </tbody>\n",
              "</table>\n",
              "</div>\n",
              "      <button class=\"colab-df-convert\" onclick=\"convertToInteractive('df-3707c68f-71ab-49d5-8914-e47c0197377d')\"\n",
              "              title=\"Convert this dataframe to an interactive table.\"\n",
              "              style=\"display:none;\">\n",
              "        \n",
              "  <svg xmlns=\"http://www.w3.org/2000/svg\" height=\"24px\"viewBox=\"0 0 24 24\"\n",
              "       width=\"24px\">\n",
              "    <path d=\"M0 0h24v24H0V0z\" fill=\"none\"/>\n",
              "    <path d=\"M18.56 5.44l.94 2.06.94-2.06 2.06-.94-2.06-.94-.94-2.06-.94 2.06-2.06.94zm-11 1L8.5 8.5l.94-2.06 2.06-.94-2.06-.94L8.5 2.5l-.94 2.06-2.06.94zm10 10l.94 2.06.94-2.06 2.06-.94-2.06-.94-.94-2.06-.94 2.06-2.06.94z\"/><path d=\"M17.41 7.96l-1.37-1.37c-.4-.4-.92-.59-1.43-.59-.52 0-1.04.2-1.43.59L10.3 9.45l-7.72 7.72c-.78.78-.78 2.05 0 2.83L4 21.41c.39.39.9.59 1.41.59.51 0 1.02-.2 1.41-.59l7.78-7.78 2.81-2.81c.8-.78.8-2.07 0-2.86zM5.41 20L4 18.59l7.72-7.72 1.47 1.35L5.41 20z\"/>\n",
              "  </svg>\n",
              "      </button>\n",
              "      \n",
              "  <style>\n",
              "    .colab-df-container {\n",
              "      display:flex;\n",
              "      flex-wrap:wrap;\n",
              "      gap: 12px;\n",
              "    }\n",
              "\n",
              "    .colab-df-convert {\n",
              "      background-color: #E8F0FE;\n",
              "      border: none;\n",
              "      border-radius: 50%;\n",
              "      cursor: pointer;\n",
              "      display: none;\n",
              "      fill: #1967D2;\n",
              "      height: 32px;\n",
              "      padding: 0 0 0 0;\n",
              "      width: 32px;\n",
              "    }\n",
              "\n",
              "    .colab-df-convert:hover {\n",
              "      background-color: #E2EBFA;\n",
              "      box-shadow: 0px 1px 2px rgba(60, 64, 67, 0.3), 0px 1px 3px 1px rgba(60, 64, 67, 0.15);\n",
              "      fill: #174EA6;\n",
              "    }\n",
              "\n",
              "    [theme=dark] .colab-df-convert {\n",
              "      background-color: #3B4455;\n",
              "      fill: #D2E3FC;\n",
              "    }\n",
              "\n",
              "    [theme=dark] .colab-df-convert:hover {\n",
              "      background-color: #434B5C;\n",
              "      box-shadow: 0px 1px 3px 1px rgba(0, 0, 0, 0.15);\n",
              "      filter: drop-shadow(0px 1px 2px rgba(0, 0, 0, 0.3));\n",
              "      fill: #FFFFFF;\n",
              "    }\n",
              "  </style>\n",
              "\n",
              "      <script>\n",
              "        const buttonEl =\n",
              "          document.querySelector('#df-3707c68f-71ab-49d5-8914-e47c0197377d button.colab-df-convert');\n",
              "        buttonEl.style.display =\n",
              "          google.colab.kernel.accessAllowed ? 'block' : 'none';\n",
              "\n",
              "        async function convertToInteractive(key) {\n",
              "          const element = document.querySelector('#df-3707c68f-71ab-49d5-8914-e47c0197377d');\n",
              "          const dataTable =\n",
              "            await google.colab.kernel.invokeFunction('convertToInteractive',\n",
              "                                                     [key], {});\n",
              "          if (!dataTable) return;\n",
              "\n",
              "          const docLinkHtml = 'Like what you see? Visit the ' +\n",
              "            '<a target=\"_blank\" href=https://colab.research.google.com/notebooks/data_table.ipynb>data table notebook</a>'\n",
              "            + ' to learn more about interactive tables.';\n",
              "          element.innerHTML = '';\n",
              "          dataTable['output_type'] = 'display_data';\n",
              "          await google.colab.output.renderOutput(dataTable, element);\n",
              "          const docLink = document.createElement('div');\n",
              "          docLink.innerHTML = docLinkHtml;\n",
              "          element.appendChild(docLink);\n",
              "        }\n",
              "      </script>\n",
              "    </div>\n",
              "  </div>\n",
              "  "
            ]
          },
          "metadata": {},
          "execution_count": 7
        }
      ],
      "source": [
        "df.describe()"
      ],
      "id": "6add600a-fd62-4f3c-bca1-06651b16e017"
    },
    {
      "cell_type": "code",
      "execution_count": 8,
      "metadata": {
        "colab": {
          "base_uri": "https://localhost:8080/"
        },
        "id": "addf5045-b4f6-4c79-b067-75f5ef66306f",
        "outputId": "9402ab5c-43b0-4273-a9e7-40a701d3254f"
      },
      "outputs": [
        {
          "output_type": "execute_result",
          "data": {
            "text/plain": [
              "accountNumber                 5000\n",
              "customerId                    5000\n",
              "creditLimit                     10\n",
              "availableMoney              521915\n",
              "transactionDateTime         776637\n",
              "transactionAmount            66038\n",
              "merchantName                  2490\n",
              "acqCountry                       5\n",
              "merchantCountryCode              5\n",
              "posEntryMode                     6\n",
              "posConditionCode                 4\n",
              "merchantCategoryCode            19\n",
              "currentExpDate                 165\n",
              "accountOpenDate               1820\n",
              "dateOfLastAddressChange       2184\n",
              "cardCVV                        899\n",
              "enteredCVV                     976\n",
              "cardLast4Digits               5245\n",
              "transactionType                  4\n",
              "echoBuffer                       1\n",
              "currentBalance              487318\n",
              "merchantCity                     1\n",
              "merchantState                    1\n",
              "merchantZip                      1\n",
              "cardPresent                      2\n",
              "posOnPremises                    1\n",
              "recurringAuthInd                 1\n",
              "expirationDateKeyInMatch         2\n",
              "isFraud                          2\n",
              "dtype: int64"
            ]
          },
          "metadata": {},
          "execution_count": 8
        }
      ],
      "source": [
        "df.nunique()"
      ],
      "id": "addf5045-b4f6-4c79-b067-75f5ef66306f"
    },
    {
      "cell_type": "markdown",
      "metadata": {
        "id": "lw-Oxgwq5NZM"
      },
      "source": [
        "We are first going to clean the dataset changing data types and remove null/blank values and making adjustment to text in the data. After that we would deep dive into Exploratory Data Analysis using various plots to visually see and analyse the data. \n",
        "\n"
      ],
      "id": "lw-Oxgwq5NZM"
    },
    {
      "cell_type": "markdown",
      "metadata": {
        "id": "VgToDOpr54Nz"
      },
      "source": [
        "##<u> Data Cleaning and Preprocessing</u>"
      ],
      "id": "VgToDOpr54Nz"
    },
    {
      "cell_type": "markdown",
      "metadata": {
        "id": "-g7aajrs7pTt"
      },
      "source": [
        "While viewing the data, we could clearly see some of the columns are blank and also their number of unqiue values is 1. "
      ],
      "id": "-g7aajrs7pTt"
    },
    {
      "cell_type": "code",
      "execution_count": 9,
      "metadata": {
        "id": "aba88d5d-ecdc-4454-a33e-5cb54c8cc3a2"
      },
      "outputs": [],
      "source": [
        "df.drop(['echoBuffer','merchantCity','merchantState','merchantZip','posOnPremises','recurringAuthInd'],axis=1,inplace=True)"
      ],
      "id": "aba88d5d-ecdc-4454-a33e-5cb54c8cc3a2"
    },
    {
      "cell_type": "markdown",
      "metadata": {
        "id": "v9RcwKLr9MfP"
      },
      "source": [
        "As part of dimensionality reduction ,we believe, some of the columns are uninsightful and may not have any influence on whether the transaction was fraud or not. We will drop the following columns<br>\n",
        "1. accountNumber\n",
        "2. customerId\n",
        "3. MerchantName\n",
        "4. cardLast4Digits                "
      ],
      "id": "v9RcwKLr9MfP"
    },
    {
      "cell_type": "code",
      "execution_count": 10,
      "metadata": {
        "id": "vBAImKVl-ecm"
      },
      "outputs": [],
      "source": [
        "df.drop(['accountNumber','customerId','merchantName','cardLast4Digits'],axis=1,inplace=True)"
      ],
      "id": "vBAImKVl-ecm"
    },
    {
      "cell_type": "markdown",
      "metadata": {
        "id": "_8rq2hXNQFC5"
      },
      "source": [
        "Some of the features contain missing values in the form of blank string. We need to handle them, else they may affect the overall accuracy of our models. So we first replace these \"\" with NaN and get the count"
      ],
      "id": "_8rq2hXNQFC5"
    },
    {
      "cell_type": "code",
      "execution_count": 11,
      "metadata": {
        "id": "C5vR1X4WBoSh"
      },
      "outputs": [],
      "source": [
        "df.replace(\"\",np.NaN,inplace=True)"
      ],
      "id": "C5vR1X4WBoSh"
    },
    {
      "cell_type": "code",
      "execution_count": 12,
      "metadata": {
        "colab": {
          "base_uri": "https://localhost:8080/"
        },
        "id": "6nLH1ogkPXWT",
        "outputId": "a9a9dd10-709b-4e9b-dc7d-f6fe25779c86"
      },
      "outputs": [
        {
          "output_type": "stream",
          "name": "stdout",
          "text": [
            "creditLimit                    0\n",
            "availableMoney                 0\n",
            "transactionDateTime            0\n",
            "transactionAmount              0\n",
            "acqCountry                  4562\n",
            "merchantCountryCode          724\n",
            "posEntryMode                4054\n",
            "posConditionCode             409\n",
            "merchantCategoryCode           0\n",
            "currentExpDate                 0\n",
            "accountOpenDate                0\n",
            "dateOfLastAddressChange        0\n",
            "cardCVV                        0\n",
            "enteredCVV                     0\n",
            "transactionType              698\n",
            "currentBalance                 0\n",
            "cardPresent                    0\n",
            "expirationDateKeyInMatch       0\n",
            "isFraud                        0\n",
            "dtype: int64\n"
          ]
        }
      ],
      "source": [
        "print(df.isna().sum())"
      ],
      "id": "6nLH1ogkPXWT"
    },
    {
      "cell_type": "markdown",
      "metadata": {
        "id": "P3agEVfgQwpG"
      },
      "source": [
        "We replace these missing values with their most frequent value for now. (We also could have dropped them, but for now we are just imputing them with most frequent values)"
      ],
      "id": "P3agEVfgQwpG"
    },
    {
      "cell_type": "code",
      "execution_count": 13,
      "metadata": {
        "id": "XesQz_21Qsnv"
      },
      "outputs": [],
      "source": [
        "df = df.fillna(df.mode().iloc[0])"
      ],
      "id": "XesQz_21Qsnv"
    },
    {
      "cell_type": "markdown",
      "metadata": {
        "id": "c1r9cbe5J2Mu"
      },
      "source": [
        "<u>Feature construction</u>\n",
        "\n",
        "We actually do not need enteredCVV and cardCVV features. We could just create a new feature which checks if they were equal or not."
      ],
      "id": "c1r9cbe5J2Mu"
    },
    {
      "cell_type": "code",
      "execution_count": 14,
      "metadata": {
        "colab": {
          "base_uri": "https://localhost:8080/"
        },
        "id": "yUwGrGipJrgP",
        "outputId": "7482f86b-5f49-48f1-ccbd-6b2152607dfd"
      },
      "outputs": [
        {
          "output_type": "execute_result",
          "data": {
            "text/plain": [
              "1    779348\n",
              "0      7015\n",
              "Name: cvv_matched, dtype: int64"
            ]
          },
          "metadata": {},
          "execution_count": 14
        }
      ],
      "source": [
        "df['cvv_matched'] = np.where(df['enteredCVV']== df['cardCVV'], 1, 0)\n",
        "df.drop(['enteredCVV','cardCVV'],axis=1,inplace=True)\n",
        "df['cvv_matched'].value_counts()"
      ],
      "id": "yUwGrGipJrgP"
    },
    {
      "cell_type": "markdown",
      "metadata": {
        "id": "hQ3aN4jCSgP2"
      },
      "source": [
        "## <u>Exploratory Data Anaylsis</u>"
      ],
      "id": "hQ3aN4jCSgP2"
    },
    {
      "cell_type": "markdown",
      "metadata": {
        "id": "32_xnY-yTLMl"
      },
      "source": [
        "###Correlation between variables\n",
        "\n",
        "This dataset provides many options for using correlations to develop regressions for predicting whether the transaction was fraudulent. The correlation coefficients in a heatmap such as this one give us an idea of strength(absolute value) and direction (positive/negative) of the relationship.\n",
        "\n",
        "Correlation is represented as a value between -1 and +1 where +1 denotes the highest positive correlation, -1denotes the highest negative correlation, and 0 denotes that there is no correlation. In the below visualization we have tried finding how related the variables in the dataset are."
      ],
      "id": "32_xnY-yTLMl"
    },
    {
      "cell_type": "code",
      "execution_count": 15,
      "metadata": {
        "colab": {
          "base_uri": "https://localhost:8080/",
          "height": 643
        },
        "id": "Xa4AlGRoS8aC",
        "outputId": "75fdf5e4-dca4-4601-c7b9-1584321f3442"
      },
      "outputs": [
        {
          "output_type": "execute_result",
          "data": {
            "text/plain": [
              "<matplotlib.axes._subplots.AxesSubplot at 0x7fbd68e33e50>"
            ]
          },
          "metadata": {},
          "execution_count": 15
        },
        {
          "output_type": "display_data",
          "data": {
            "text/plain": [
              "<Figure size 864x576 with 2 Axes>"
            ],
            "image/png": "[encoded data removed]"
          },
          "metadata": {
            "needs_background": "light"
          }
        }
      ],
      "source": [
        "plt.figure(figsize=(12, 8))\n",
        "sns.set(style=\"whitegrid\")\n",
        "corr = df.corr()\n",
        "sns.heatmap(corr,annot=True,cmap='BrBG_r')"
      ],
      "id": "Xa4AlGRoS8aC"
    },
    {
      "cell_type": "markdown",
      "metadata": {
        "id": "hFPVYyKOWHmA"
      },
      "source": [
        "As seen in the correlation matrix, there is high positive correlation between availableMoney and creditLimit. We will visualize it with the scatter plot."
      ],
      "id": "hFPVYyKOWHmA"
    },
    {
      "cell_type": "code",
      "execution_count": 16,
      "metadata": {
        "colab": {
          "base_uri": "https://localhost:8080/",
          "height": 285
        },
        "id": "wUg8SU47TmmY",
        "outputId": "85cf012b-5a88-41c5-a4f6-28bebcb76cd3"
      },
      "outputs": [
        {
          "output_type": "display_data",
          "data": {
            "text/plain": [
              "<Figure size 432x288 with 1 Axes>"
            ],
            "image/png": "[encoded data removed]"
          },
          "metadata": {}
        }
      ],
      "source": [
        "PLOT_COLORS = [\"#268bd2\", \"#0052CC\", \"#FF5722\", \"#b58900\", \"#003f5c\"]\n",
        "fig, ax = plt.subplots()\n",
        "_ = plt.scatter(x=df['creditLimit'], y=df['availableMoney'], color=PLOT_COLORS[2], edgecolors=\"#000000\", linewidths=0.5) \n",
        "_ = ax.set(xlabel=\"creditLimit\", ylabel=\"availableMoney\")"
      ],
      "id": "wUg8SU47TmmY"
    },
    {
      "cell_type": "code",
      "execution_count": 17,
      "metadata": {
        "id": "LLIGqDX3Wy3D"
      },
      "outputs": [],
      "source": [
        "numerical_cols = ['creditLimit','availableMoney','transactionAmount','currentBalance']\n",
        "categorical_cols = ['acqCountry','merchantCountryCode','posEntryMode','posConditionCode','merchantCategoryCode','transactionType','cardPresent','expirationDateKeyInMatch']"
      ],
      "id": "LLIGqDX3Wy3D"
    },
    {
      "cell_type": "code",
      "execution_count": 18,
      "metadata": {
        "colab": {
          "base_uri": "https://localhost:8080/"
        },
        "id": "hhXhdDZTY4j8",
        "outputId": "e699dd32-64c4-46b9-86aa-7691930a9d07"
      },
      "outputs": [
        {
          "output_type": "stream",
          "name": "stdout",
          "text": [
            "<class 'pandas.core.frame.DataFrame'>\n",
            "RangeIndex: 786363 entries, 0 to 786362\n",
            "Data columns (total 18 columns):\n",
            " #   Column                    Non-Null Count   Dtype  \n",
            "---  ------                    --------------   -----  \n",
            " 0   creditLimit               786363 non-null  int64  \n",
            " 1   availableMoney            786363 non-null  float64\n",
            " 2   transactionDateTime       786363 non-null  object \n",
            " 3   transactionAmount         786363 non-null  float64\n",
            " 4   acqCountry                786363 non-null  object \n",
            " 5   merchantCountryCode       786363 non-null  object \n",
            " 6   posEntryMode              786363 non-null  object \n",
            " 7   posConditionCode          786363 non-null  object \n",
            " 8   merchantCategoryCode      786363 non-null  object \n",
            " 9   currentExpDate            786363 non-null  object \n",
            " 10  accountOpenDate           786363 non-null  object \n",
            " 11  dateOfLastAddressChange   786363 non-null  object \n",
            " 12  transactionType           786363 non-null  object \n",
            " 13  currentBalance            786363 non-null  float64\n",
            " 14  cardPresent               786363 non-null  bool   \n",
            " 15  expirationDateKeyInMatch  786363 non-null  bool   \n",
            " 16  isFraud                   786363 non-null  bool   \n",
            " 17  cvv_matched               786363 non-null  int64  \n",
            "dtypes: bool(3), float64(3), int64(2), object(10)\n",
            "memory usage: 92.2+ MB\n"
          ]
        }
      ],
      "source": [
        "df.info()"
      ],
      "id": "hhXhdDZTY4j8"
    },
    {
      "cell_type": "code",
      "execution_count": 19,
      "metadata": {
        "colab": {
          "base_uri": "https://localhost:8080/",
          "height": 1000
        },
        "id": "WKWd6JWQXe_y",
        "outputId": "82db8085-042e-4adc-cb9f-22442eadc604"
      },
      "outputs": [
        {
          "output_type": "display_data",
          "data": {
            "text/plain": [
              "<Figure size 432x288 with 1 Axes>"
            ],
            "image/png": "[encoded data removed]"
          },
          "metadata": {}
        },
        {
          "output_type": "display_data",
          "data": {
            "text/plain": [
              "<Figure size 432x288 with 1 Axes>"
            ],
            "image/png": "[encoded data removed]"
          },
          "metadata": {}
        },
        {
          "output_type": "display_data",
          "data": {
            "text/plain": [
              "<Figure size 432x288 with 1 Axes>"
            ],
            "image/png": "[encoded data removed]"
          },
          "metadata": {}
        },
        {
          "output_type": "display_data",
          "data": {
            "text/plain": [
              "<Figure size 432x288 with 1 Axes>"
            ],
            "image/png": "[encoded data removed]"
          },
          "metadata": {}
        }
      ],
      "source": [
        "for col in numerical_cols:\n",
        "  df[[col]].hist()"
      ],
      "id": "WKWd6JWQXe_y"
    },
    {
      "cell_type": "code",
      "execution_count": 20,
      "metadata": {
        "colab": {
          "base_uri": "https://localhost:8080/",
          "height": 409
        },
        "id": "9nhvOD5sZnZW",
        "outputId": "edcbe2e3-1f00-4171-f764-6cfd2264d2b1"
      },
      "outputs": [
        {
          "output_type": "display_data",
          "data": {
            "text/plain": [
              "<Figure size 432x288 with 8 Axes>"
            ],
            "image/png": "[encoded data removed]"
          },
          "metadata": {}
        }
      ],
      "source": [
        "fig, ax = plt.subplots(1, len(categorical_cols))\n",
        "for i, categorical_feature in enumerate(df[categorical_cols]):\n",
        "    df[categorical_feature].value_counts().plot(kind=\"bar\", ax=ax[i]).set_title(categorical_feature)\n",
        "fig.show()"
      ],
      "id": "9nhvOD5sZnZW"
    },
    {
      "cell_type": "code",
      "execution_count": 21,
      "metadata": {
        "colab": {
          "base_uri": "https://localhost:8080/",
          "height": 337
        },
        "id": "DNuYIvajeA-H",
        "outputId": "c94c9ce2-868d-4831-8aa4-188f1fc5ffad"
      },
      "outputs": [
        {
          "output_type": "execute_result",
          "data": {
            "text/plain": [
              "<matplotlib.axes._subplots.AxesSubplot at 0x7fbd6712b350>"
            ]
          },
          "metadata": {},
          "execution_count": 21
        },
        {
          "output_type": "display_data",
          "data": {
            "text/plain": [
              "<Figure size 4320x360 with 1 Axes>"
            ],
            "image/png": "[encoded data removed]"
          },
          "metadata": {}
        }
      ],
      "source": [
        "kwargs = dict(\n",
        "    startangle = 90,\n",
        "    colormap   = 'Pastel2',\n",
        "    fontsize   = 13,\n",
        "    explode    = (0.1,0.1),\n",
        "    figsize    = (60,5),\n",
        "    autopct    = '%1.1f%%',\n",
        "    title      = 'isFraud'\n",
        ")\n",
        "\n",
        "df['isFraud'].value_counts().plot.pie(**kwargs)"
      ],
      "id": "DNuYIvajeA-H"
    },
    {
      "cell_type": "markdown",
      "metadata": {
        "id": "SO3Yr9_6ebi9"
      },
      "source": [
        "## <u>Feature Engineering</u>"
      ],
      "id": "SO3Yr9_6ebi9"
    },
    {
      "cell_type": "markdown",
      "metadata": {
        "id": "TwYXJeQqfPRS"
      },
      "source": [
        "We can see that there are certain dateTime feature, we have to convert to numerical data in order to feed to the ML algorithms"
      ],
      "id": "TwYXJeQqfPRS"
    },
    {
      "cell_type": "code",
      "execution_count": 22,
      "metadata": {
        "id": "KAVitNgoench"
      },
      "outputs": [],
      "source": [
        "# converting in datetime format\n",
        "df['transactionDateTime'] = pd.to_datetime(df['transactionDateTime'])\n",
        "df['currentExpDate'] = pd.to_datetime(df['currentExpDate'])\n",
        "df['accountOpenDate'] = pd.to_datetime(df['accountOpenDate'])\n",
        "df['dateOfLastAddressChange'] = pd.to_datetime(df['dateOfLastAddressChange'])"
      ],
      "id": "KAVitNgoench"
    },
    {
      "cell_type": "code",
      "execution_count": 23,
      "metadata": {
        "id": "OWqALY5PfZ7c"
      },
      "outputs": [],
      "source": [
        "# extractind year, month, day, hour, minute and seconds from datetime columns\n",
        "df['transactionDateTime_year'] = df['transactionDateTime'].dt.year\n",
        "df['transactionDateTime_month'] = df['transactionDateTime'].dt.month\n",
        "df['transactionDateTime_day'] = df['transactionDateTime'].dt.day\n",
        "df['transactionDateTime_hour'] = df['transactionDateTime'].dt.hour\n",
        "df['transactionDateTime_minute'] = df['transactionDateTime'].dt.minute\n",
        "df['transactionDateTime_second'] = df['transactionDateTime'].dt.second\n",
        "\n",
        "df['currentExpDate_year'] = df['currentExpDate'].dt.year\n",
        "df['currentExpDate_month'] = df['currentExpDate'].dt.month\n",
        "df['currentExpDate_day'] = df['currentExpDate'].dt.day\n",
        "\n",
        "df['accountOpenDate_year'] = df['accountOpenDate'].dt.year\n",
        "df['accountOpenDate_month'] = df['accountOpenDate'].dt.month\n",
        "df['accountOpenDate_day'] = df['accountOpenDate'].dt.day\n",
        "\n",
        "df['dateOfLastAddressChange_year'] = df['dateOfLastAddressChange'].dt.year\n",
        "df['dateOfLastAddressChange_month'] = df['dateOfLastAddressChange'].dt.month\n",
        "df['dateOfLastAddressChange_day'] = df['dateOfLastAddressChange'].dt.day"
      ],
      "id": "OWqALY5PfZ7c"
    },
    {
      "cell_type": "code",
      "execution_count": 24,
      "metadata": {
        "id": "x2ImOUU9ff4q"
      },
      "outputs": [],
      "source": [
        "# drop datetime column\n",
        "df.drop('transactionDateTime',axis = 1,inplace = True)\n",
        "df.drop('currentExpDate',axis = 1,inplace = True)\n",
        "df.drop('accountOpenDate',axis = 1,inplace = True)\n",
        "df.drop('dateOfLastAddressChange',axis = 1,inplace = True)"
      ],
      "id": "x2ImOUU9ff4q"
    },
    {
      "cell_type": "markdown",
      "metadata": {
        "id": "F3oGzgisAizD"
      },
      "source": [
        "We can clearly see that data in some of the features are in text form and machine learning algorithms primarily require numerical data. We need to convert these data into numerical by either:\n",
        "1. Label Encoding\n",
        "    OR\n",
        "2. One-hot encoding\n",
        "\n",
        "Clearly here the text features like Country Code, transactionType, etc. do not have any rank/order in their data. So best approach would be to go with One-hot encoding."
      ],
      "id": "F3oGzgisAizD"
    },
    {
      "cell_type": "code",
      "execution_count": 25,
      "metadata": {
        "id": "87c5cae8-944e-4950-b3ec-c57f046f3eb6"
      },
      "outputs": [],
      "source": [
        "categorical_cols = ['acqCountry','merchantCountryCode','posEntryMode','posConditionCode','merchantCategoryCode','transactionType','cardPresent','expirationDateKeyInMatch']\n",
        "df = pd.get_dummies(df, columns = categorical_cols)\n"
      ],
      "id": "87c5cae8-944e-4950-b3ec-c57f046f3eb6"
    },
    {
      "cell_type": "code",
      "execution_count": 26,
      "metadata": {
        "colab": {
          "base_uri": "https://localhost:8080/"
        },
        "id": "BsDHFnhkJKk1",
        "outputId": "25af2136-7410-42fb-d22e-1d64223a6e43"
      },
      "outputs": [
        {
          "output_type": "stream",
          "name": "stdout",
          "text": [
            "<class 'pandas.core.frame.DataFrame'>\n",
            "RangeIndex: 786363 entries, 0 to 786362\n",
            "Data columns (total 63 columns):\n",
            " #   Column                                     Non-Null Count   Dtype  \n",
            "---  ------                                     --------------   -----  \n",
            " 0   creditLimit                                786363 non-null  int64  \n",
            " 1   availableMoney                             786363 non-null  float64\n",
            " 2   transactionAmount                          786363 non-null  float64\n",
            " 3   currentBalance                             786363 non-null  float64\n",
            " 4   isFraud                                    786363 non-null  bool   \n",
            " 5   cvv_matched                                786363 non-null  int64  \n",
            " 6   transactionDateTime_year                   786363 non-null  int64  \n",
            " 7   transactionDateTime_month                  786363 non-null  int64  \n",
            " 8   transactionDateTime_day                    786363 non-null  int64  \n",
            " 9   transactionDateTime_hour                   786363 non-null  int64  \n",
            " 10  transactionDateTime_minute                 786363 non-null  int64  \n",
            " 11  transactionDateTime_second                 786363 non-null  int64  \n",
            " 12  currentExpDate_year                        786363 non-null  int64  \n",
            " 13  currentExpDate_month                       786363 non-null  int64  \n",
            " 14  currentExpDate_day                         786363 non-null  int64  \n",
            " 15  accountOpenDate_year                       786363 non-null  int64  \n",
            " 16  accountOpenDate_month                      786363 non-null  int64  \n",
            " 17  accountOpenDate_day                        786363 non-null  int64  \n",
            " 18  dateOfLastAddressChange_year               786363 non-null  int64  \n",
            " 19  dateOfLastAddressChange_month              786363 non-null  int64  \n",
            " 20  dateOfLastAddressChange_day                786363 non-null  int64  \n",
            " 21  acqCountry_CAN                             786363 non-null  uint8  \n",
            " 22  acqCountry_MEX                             786363 non-null  uint8  \n",
            " 23  acqCountry_PR                              786363 non-null  uint8  \n",
            " 24  acqCountry_US                              786363 non-null  uint8  \n",
            " 25  merchantCountryCode_CAN                    786363 non-null  uint8  \n",
            " 26  merchantCountryCode_MEX                    786363 non-null  uint8  \n",
            " 27  merchantCountryCode_PR                     786363 non-null  uint8  \n",
            " 28  merchantCountryCode_US                     786363 non-null  uint8  \n",
            " 29  posEntryMode_02                            786363 non-null  uint8  \n",
            " 30  posEntryMode_05                            786363 non-null  uint8  \n",
            " 31  posEntryMode_09                            786363 non-null  uint8  \n",
            " 32  posEntryMode_80                            786363 non-null  uint8  \n",
            " 33  posEntryMode_90                            786363 non-null  uint8  \n",
            " 34  posConditionCode_01                        786363 non-null  uint8  \n",
            " 35  posConditionCode_08                        786363 non-null  uint8  \n",
            " 36  posConditionCode_99                        786363 non-null  uint8  \n",
            " 37  merchantCategoryCode_airline               786363 non-null  uint8  \n",
            " 38  merchantCategoryCode_auto                  786363 non-null  uint8  \n",
            " 39  merchantCategoryCode_cable/phone           786363 non-null  uint8  \n",
            " 40  merchantCategoryCode_entertainment         786363 non-null  uint8  \n",
            " 41  merchantCategoryCode_fastfood              786363 non-null  uint8  \n",
            " 42  merchantCategoryCode_food                  786363 non-null  uint8  \n",
            " 43  merchantCategoryCode_food_delivery         786363 non-null  uint8  \n",
            " 44  merchantCategoryCode_fuel                  786363 non-null  uint8  \n",
            " 45  merchantCategoryCode_furniture             786363 non-null  uint8  \n",
            " 46  merchantCategoryCode_gym                   786363 non-null  uint8  \n",
            " 47  merchantCategoryCode_health                786363 non-null  uint8  \n",
            " 48  merchantCategoryCode_hotels                786363 non-null  uint8  \n",
            " 49  merchantCategoryCode_mobileapps            786363 non-null  uint8  \n",
            " 50  merchantCategoryCode_online_gifts          786363 non-null  uint8  \n",
            " 51  merchantCategoryCode_online_retail         786363 non-null  uint8  \n",
            " 52  merchantCategoryCode_online_subscriptions  786363 non-null  uint8  \n",
            " 53  merchantCategoryCode_personal care         786363 non-null  uint8  \n",
            " 54  merchantCategoryCode_rideshare             786363 non-null  uint8  \n",
            " 55  merchantCategoryCode_subscriptions         786363 non-null  uint8  \n",
            " 56  transactionType_ADDRESS_VERIFICATION       786363 non-null  uint8  \n",
            " 57  transactionType_PURCHASE                   786363 non-null  uint8  \n",
            " 58  transactionType_REVERSAL                   786363 non-null  uint8  \n",
            " 59  cardPresent_False                          786363 non-null  uint8  \n",
            " 60  cardPresent_True                           786363 non-null  uint8  \n",
            " 61  expirationDateKeyInMatch_False             786363 non-null  uint8  \n",
            " 62  expirationDateKeyInMatch_True              786363 non-null  uint8  \n",
            "dtypes: bool(1), float64(3), int64(17), uint8(42)\n",
            "memory usage: 152.2 MB\n"
          ]
        }
      ],
      "source": [
        "df.info()"
      ],
      "id": "BsDHFnhkJKk1"
    },
    {
      "cell_type": "markdown",
      "metadata": {
        "id": "5XP0one9gGjw"
      },
      "source": [
        "Finally our label column needs to be converted to:\n",
        "0- FALSE\n",
        "1 - TRUE"
      ],
      "id": "5XP0one9gGjw"
    },
    {
      "cell_type": "code",
      "execution_count": 27,
      "metadata": {
        "id": "5zejWj4EgFPB"
      },
      "outputs": [],
      "source": [
        "lb = LabelEncoder() \n",
        "df['isFraud'] = lb.fit_transform(df['isFraud'])"
      ],
      "id": "5zejWj4EgFPB"
    },
    {
      "cell_type": "markdown",
      "metadata": {
        "id": "raAcEwRwhj8e"
      },
      "source": [
        "One-Hot Encoding results in a Dummy Variable Trap as the outcome of one variable can easily be predicted with the help of the remaining variables. (Dummy Variable Trap is a scenario in which variables are highly correlated to each other). The Dummy Variable Trap leads to the problem known as multicollinearity. Multicollinearity occurs where there is a dependency between the independent features. Multicollinearity is a serious issue in machine learning models like Linear Regression and Logistic Regression. So, in order to overcome the problem of multicollinearity, one of the dummy variables has to be dropped. One of the common ways to check for multicollinearity is the Variance Inflation Factor (VIF):\n",
        "\n",
        "VIF=1, Very Less Multicollinearity\n",
        "VIF<5, Moderate Multicollinearity\n",
        "VIF>5, Extreme Multicollinearity (This is what we have to avoid)\n",
        "\n",
        "Ref: https://www.analyticsvidhya.com/blog/2020/03/one-hot-encoding-vs-label-encoding-using-scikit-learn/"
      ],
      "id": "raAcEwRwhj8e"
    },
    {
      "cell_type": "code",
      "execution_count": 28,
      "metadata": {
        "id": "f195aea1-b6c9-401a-aef2-a54045b171fc"
      },
      "outputs": [],
      "source": [
        "import statsmodels.api as sm\n",
        "# Function to calculate VIF\n",
        "def calculate_vif(data):\n",
        "    vif_df = pd.DataFrame(columns = ['Var', 'Vif'])\n",
        "    x_var_names = data.columns\n",
        "    for i in range(0, x_var_names.shape[0]):\n",
        "        y = data[x_var_names[i]]\n",
        "        x = data[x_var_names.drop([x_var_names[i]])]\n",
        "        r_squared = sm.OLS(y,x).fit().rsquared\n",
        "        vif = round(1/(1-r_squared),2)\n",
        "        vif_df.loc[i] = [x_var_names[i], vif]\n",
        "    return vif_df.sort_values(by = 'Vif', axis = 0, ascending=False, inplace=False)"
      ],
      "id": "f195aea1-b6c9-401a-aef2-a54045b171fc"
    },
    {
      "cell_type": "code",
      "execution_count": 29,
      "metadata": {
        "id": "279b9ee0-efb5-41b7-bad0-714a055360b6"
      },
      "outputs": [],
      "source": [
        "X = df.drop('isFraud',axis=1)\n",
        "\n",
        "calculate_vif(X)"
      ],
      "id": "279b9ee0-efb5-41b7-bad0-714a055360b6"
    },
    {
      "cell_type": "markdown",
      "metadata": {
        "id": "s6mWotQgJaVy"
      },
      "source": [
        "We can see that many of the columns have INF as VIF and dropping a few columns might definitely help bring down that. For now we will reserve this as future work to be done. (This step was taking too long and we could not come to a proper resolution to this issue)"
      ],
      "id": "s6mWotQgJaVy"
    },
    {
      "cell_type": "code",
      "execution_count": 30,
      "metadata": {
        "id": "b10e6ac2-7741-46e1-bc00-fb6bc4388c8c"
      },
      "outputs": [],
      "source": [
        "df.drop(['availableMoney'],axis=1,inplace=True)\n"
      ],
      "id": "b10e6ac2-7741-46e1-bc00-fb6bc4388c8c"
    },
    {
      "cell_type": "code",
      "execution_count": 31,
      "metadata": {
        "id": "sFqnekv2R_Yh"
      },
      "outputs": [],
      "source": [
        "X = df.drop('isFraud',axis=1)\n",
        "\n",
        "calculate_vif(X)"
      ],
      "id": "sFqnekv2R_Yh"
    },
    {
      "cell_type": "markdown",
      "metadata": {
        "id": "qztwDa1WKW__"
      },
      "source": [
        "## <u>Standardization of Data : Z score and Standard scaler</u>\n",
        "We will take all the numerical features and zscore them. However, on more experimentation we found that z score was not giving us the better results and we tried standard scaler as an alternative, which seems to be giving better results"
      ],
      "id": "qztwDa1WKW__"
    },
    {
      "cell_type": "code",
      "execution_count": 32,
      "metadata": {
        "id": "t8345uBWKywu"
      },
      "outputs": [],
      "source": [
        "import scipy.stats as stats\n",
        "from sklearn.preprocessing import StandardScaler\n",
        "scale= StandardScaler()\n",
        "numerical_cols = ['creditLimit','transactionAmount','currentBalance','transactionDateTime_year',\n",
        "                  'transactionDateTime_month','transactionDateTime_day',\n",
        "                  'transactionDateTime_hour','transactionDateTime_minute',\n",
        "                  'transactionDateTime_second', 'currentExpDate_year',\n",
        "                  'currentExpDate_month', 'currentExpDate_day', 'accountOpenDate_year',\n",
        "                  'accountOpenDate_month', 'accountOpenDate_day',\n",
        "                  'dateOfLastAddressChange_year', 'dateOfLastAddressChange_month',\n",
        "                  'dateOfLastAddressChange_day']\n",
        "#for col in numerical_cols:\n",
        "  #df[col] = stats.zscore(df[col])\n",
        "df[numerical_cols] = scale.fit_transform(df[numerical_cols])\n",
        "\n",
        "#scaler = MinMaxScaler()\n",
        "\n"
      ],
      "id": "t8345uBWKywu"
    },
    {
      "cell_type": "code",
      "execution_count": 33,
      "metadata": {
        "colab": {
          "base_uri": "https://localhost:8080/",
          "height": 317
        },
        "id": "VG4e5q69UQgi",
        "outputId": "5655b73b-29af-47a4-aeb1-a4d4835e3490"
      },
      "outputs": [
        {
          "output_type": "execute_result",
          "data": {
            "text/plain": [
              "   creditLimit  transactionAmount  currentBalance  isFraud  cvv_matched  \\\n",
              "0    -0.494962          -0.260184       -0.698224        0            1   \n",
              "1    -0.494962          -0.422918       -0.698224        0            1   \n",
              "2    -0.494962          -0.876733       -0.698224        0            1   \n",
              "3    -0.494962          -0.876733       -0.698224        0            1   \n",
              "4    -0.494962          -0.445460       -0.698224        0            1   \n",
              "\n",
              "   transactionDateTime_year  transactionDateTime_month  \\\n",
              "0                       0.0                   0.393352   \n",
              "1                       0.0                   0.975381   \n",
              "2                       0.0                   1.266396   \n",
              "3                       0.0                   1.557410   \n",
              "4                       0.0                  -1.061721   \n",
              "\n",
              "   transactionDateTime_day  transactionDateTime_hour  \\\n",
              "0                -0.311234                  0.359577   \n",
              "1                -0.539009                 -0.940795   \n",
              "2                -0.880673                 -0.362852   \n",
              "3                -0.652897                 -1.374253   \n",
              "4                 0.941534                  1.370978   \n",
              "\n",
              "   transactionDateTime_minute  ...  merchantCategoryCode_personal care  \\\n",
              "0                   -0.145372  ...                                   0   \n",
              "1                   -1.415157  ...                                   0   \n",
              "2                   -0.664830  ...                                   0   \n",
              "3                   -0.895700  ...                                   0   \n",
              "4                   -1.472875  ...                                   0   \n",
              "\n",
              "   merchantCategoryCode_rideshare  merchantCategoryCode_subscriptions  \\\n",
              "0                               1                                   0   \n",
              "1                               0                                   0   \n",
              "2                               0                                   0   \n",
              "3                               0                                   0   \n",
              "4                               0                                   0   \n",
              "\n",
              "   transactionType_ADDRESS_VERIFICATION  transactionType_PURCHASE  \\\n",
              "0                                     0                         1   \n",
              "1                                     0                         1   \n",
              "2                                     0                         1   \n",
              "3                                     0                         1   \n",
              "4                                     0                         1   \n",
              "\n",
              "   transactionType_REVERSAL  cardPresent_False  cardPresent_True  \\\n",
              "0                         0                  1                 0   \n",
              "1                         0                  0                 1   \n",
              "2                         0                  1                 0   \n",
              "3                         0                  1                 0   \n",
              "4                         0                  0                 1   \n",
              "\n",
              "   expirationDateKeyInMatch_False  expirationDateKeyInMatch_True  \n",
              "0                               1                              0  \n",
              "1                               1                              0  \n",
              "2                               1                              0  \n",
              "3                               1                              0  \n",
              "4                               1                              0  \n",
              "\n",
              "[5 rows x 62 columns]"
            ],
            "text/html": [
              "\n",
              "  <div id=\"df-741cb83c-a9c8-4e06-b3fe-0e6b549c2938\">\n",
              "    <div class=\"colab-df-container\">\n",
              "      <div>\n",
              "<style scoped>\n",
              "    .dataframe tbody tr th:only-of-type {\n",
              "        vertical-align: middle;\n",
              "    }\n",
              "\n",
              "    .dataframe tbody tr th {\n",
              "        vertical-align: top;\n",
              "    }\n",
              "\n",
              "    .dataframe thead th {\n",
              "        text-align: right;\n",
              "    }\n",
              "</style>\n",
              "<table border=\"1\" class=\"dataframe\">\n",
              "  <thead>\n",
              "    <tr style=\"text-align: right;\">\n",
              "      <th></th>\n",
              "      <th>creditLimit</th>\n",
              "      <th>transactionAmount</th>\n",
              "      <th>currentBalance</th>\n",
              "      <th>isFraud</th>\n",
              "      <th>cvv_matched</th>\n",
              "      <th>transactionDateTime_year</th>\n",
              "      <th>transactionDateTime_month</th>\n",
              "      <th>transactionDateTime_day</th>\n",
              "      <th>transactionDateTime_hour</th>\n",
              "      <th>transactionDateTime_minute</th>\n",
              "      <th>...</th>\n",
              "      <th>merchantCategoryCode_personal care</th>\n",
              "      <th>merchantCategoryCode_rideshare</th>\n",
              "      <th>merchantCategoryCode_subscriptions</th>\n",
              "      <th>transactionType_ADDRESS_VERIFICATION</th>\n",
              "      <th>transactionType_PURCHASE</th>\n",
              "      <th>transactionType_REVERSAL</th>\n",
              "      <th>cardPresent_False</th>\n",
              "      <th>cardPresent_True</th>\n",
              "      <th>expirationDateKeyInMatch_False</th>\n",
              "      <th>expirationDateKeyInMatch_True</th>\n",
              "    </tr>\n",
              "  </thead>\n",
              "  <tbody>\n",
              "    <tr>\n",
              "      <th>0</th>\n",
              "      <td>-0.494962</td>\n",
              "      <td>-0.260184</td>\n",
              "      <td>-0.698224</td>\n",
              "      <td>0</td>\n",
              "      <td>1</td>\n",
              "      <td>0.0</td>\n",
              "      <td>0.393352</td>\n",
              "      <td>-0.311234</td>\n",
              "      <td>0.359577</td>\n",
              "      <td>-0.145372</td>\n",
              "      <td>...</td>\n",
              "      <td>0</td>\n",
              "      <td>1</td>\n",
              "      <td>0</td>\n",
              "      <td>0</td>\n",
              "      <td>1</td>\n",
              "      <td>0</td>\n",
              "      <td>1</td>\n",
              "      <td>0</td>\n",
              "      <td>1</td>\n",
              "      <td>0</td>\n",
              "    </tr>\n",
              "    <tr>\n",
              "      <th>1</th>\n",
              "      <td>-0.494962</td>\n",
              "      <td>-0.422918</td>\n",
              "      <td>-0.698224</td>\n",
              "      <td>0</td>\n",
              "      <td>1</td>\n",
              "      <td>0.0</td>\n",
              "      <td>0.975381</td>\n",
              "      <td>-0.539009</td>\n",
              "      <td>-0.940795</td>\n",
              "      <td>-1.415157</td>\n",
              "      <td>...</td>\n",
              "      <td>0</td>\n",
              "      <td>0</td>\n",
              "      <td>0</td>\n",
              "      <td>0</td>\n",
              "      <td>1</td>\n",
              "      <td>0</td>\n",
              "      <td>0</td>\n",
              "      <td>1</td>\n",
              "      <td>1</td>\n",
              "      <td>0</td>\n",
              "    </tr>\n",
              "    <tr>\n",
              "      <th>2</th>\n",
              "      <td>-0.494962</td>\n",
              "      <td>-0.876733</td>\n",
              "      <td>-0.698224</td>\n",
              "      <td>0</td>\n",
              "      <td>1</td>\n",
              "      <td>0.0</td>\n",
              "      <td>1.266396</td>\n",
              "      <td>-0.880673</td>\n",
              "      <td>-0.362852</td>\n",
              "      <td>-0.664830</td>\n",
              "      <td>...</td>\n",
              "      <td>0</td>\n",
              "      <td>0</td>\n",
              "      <td>0</td>\n",
              "      <td>0</td>\n",
              "      <td>1</td>\n",
              "      <td>0</td>\n",
              "      <td>1</td>\n",
              "      <td>0</td>\n",
              "      <td>1</td>\n",
              "      <td>0</td>\n",
              "    </tr>\n",
              "    <tr>\n",
              "      <th>3</th>\n",
              "      <td>-0.494962</td>\n",
              "      <td>-0.876733</td>\n",
              "      <td>-0.698224</td>\n",
              "      <td>0</td>\n",
              "      <td>1</td>\n",
              "      <td>0.0</td>\n",
              "      <td>1.557410</td>\n",
              "      <td>-0.652897</td>\n",
              "      <td>-1.374253</td>\n",
              "      <td>-0.895700</td>\n",
              "      <td>...</td>\n",
              "      <td>0</td>\n",
              "      <td>0</td>\n",
              "      <td>0</td>\n",
              "      <td>0</td>\n",
              "      <td>1</td>\n",
              "      <td>0</td>\n",
              "      <td>1</td>\n",
              "      <td>0</td>\n",
              "      <td>1</td>\n",
              "      <td>0</td>\n",
              "    </tr>\n",
              "    <tr>\n",
              "      <th>4</th>\n",
              "      <td>-0.494962</td>\n",
              "      <td>-0.445460</td>\n",
              "      <td>-0.698224</td>\n",
              "      <td>0</td>\n",
              "      <td>1</td>\n",
              "      <td>0.0</td>\n",
              "      <td>-1.061721</td>\n",
              "      <td>0.941534</td>\n",
              "      <td>1.370978</td>\n",
              "      <td>-1.472875</td>\n",
              "      <td>...</td>\n",
              "      <td>0</td>\n",
              "      <td>0</td>\n",
              "      <td>0</td>\n",
              "      <td>0</td>\n",
              "      <td>1</td>\n",
              "      <td>0</td>\n",
              "      <td>0</td>\n",
              "      <td>1</td>\n",
              "      <td>1</td>\n",
              "      <td>0</td>\n",
              "    </tr>\n",
              "  </tbody>\n",
              "</table>\n",
              "<p>5 rows × 62 columns</p>\n",
              "</div>\n",
              "      <button class=\"colab-df-convert\" onclick=\"convertToInteractive('df-741cb83c-a9c8-4e06-b3fe-0e6b549c2938')\"\n",
              "              title=\"Convert this dataframe to an interactive table.\"\n",
              "              style=\"display:none;\">\n",
              "        \n",
              "  <svg xmlns=\"http://www.w3.org/2000/svg\" height=\"24px\"viewBox=\"0 0 24 24\"\n",
              "       width=\"24px\">\n",
              "    <path d=\"M0 0h24v24H0V0z\" fill=\"none\"/>\n",
              "    <path d=\"M18.56 5.44l.94 2.06.94-2.06 2.06-.94-2.06-.94-.94-2.06-.94 2.06-2.06.94zm-11 1L8.5 8.5l.94-2.06 2.06-.94-2.06-.94L8.5 2.5l-.94 2.06-2.06.94zm10 10l.94 2.06.94-2.06 2.06-.94-2.06-.94-.94-2.06-.94 2.06-2.06.94z\"/><path d=\"M17.41 7.96l-1.37-1.37c-.4-.4-.92-.59-1.43-.59-.52 0-1.04.2-1.43.59L10.3 9.45l-7.72 7.72c-.78.78-.78 2.05 0 2.83L4 21.41c.39.39.9.59 1.41.59.51 0 1.02-.2 1.41-.59l7.78-7.78 2.81-2.81c.8-.78.8-2.07 0-2.86zM5.41 20L4 18.59l7.72-7.72 1.47 1.35L5.41 20z\"/>\n",
              "  </svg>\n",
              "      </button>\n",
              "      \n",
              "  <style>\n",
              "    .colab-df-container {\n",
              "      display:flex;\n",
              "      flex-wrap:wrap;\n",
              "      gap: 12px;\n",
              "    }\n",
              "\n",
              "    .colab-df-convert {\n",
              "      background-color: #E8F0FE;\n",
              "      border: none;\n",
              "      border-radius: 50%;\n",
              "      cursor: pointer;\n",
              "      display: none;\n",
              "      fill: #1967D2;\n",
              "      height: 32px;\n",
              "      padding: 0 0 0 0;\n",
              "      width: 32px;\n",
              "    }\n",
              "\n",
              "    .colab-df-convert:hover {\n",
              "      background-color: #E2EBFA;\n",
              "      box-shadow: 0px 1px 2px rgba(60, 64, 67, 0.3), 0px 1px 3px 1px rgba(60, 64, 67, 0.15);\n",
              "      fill: #174EA6;\n",
              "    }\n",
              "\n",
              "    [theme=dark] .colab-df-convert {\n",
              "      background-color: #3B4455;\n",
              "      fill: #D2E3FC;\n",
              "    }\n",
              "\n",
              "    [theme=dark] .colab-df-convert:hover {\n",
              "      background-color: #434B5C;\n",
              "      box-shadow: 0px 1px 3px 1px rgba(0, 0, 0, 0.15);\n",
              "      filter: drop-shadow(0px 1px 2px rgba(0, 0, 0, 0.3));\n",
              "      fill: #FFFFFF;\n",
              "    }\n",
              "  </style>\n",
              "\n",
              "      <script>\n",
              "        const buttonEl =\n",
              "          document.querySelector('#df-741cb83c-a9c8-4e06-b3fe-0e6b549c2938 button.colab-df-convert');\n",
              "        buttonEl.style.display =\n",
              "          google.colab.kernel.accessAllowed ? 'block' : 'none';\n",
              "\n",
              "        async function convertToInteractive(key) {\n",
              "          const element = document.querySelector('#df-741cb83c-a9c8-4e06-b3fe-0e6b549c2938');\n",
              "          const dataTable =\n",
              "            await google.colab.kernel.invokeFunction('convertToInteractive',\n",
              "                                                     [key], {});\n",
              "          if (!dataTable) return;\n",
              "\n",
              "          const docLinkHtml = 'Like what you see? Visit the ' +\n",
              "            '<a target=\"_blank\" href=https://colab.research.google.com/notebooks/data_table.ipynb>data table notebook</a>'\n",
              "            + ' to learn more about interactive tables.';\n",
              "          element.innerHTML = '';\n",
              "          dataTable['output_type'] = 'display_data';\n",
              "          await google.colab.output.renderOutput(dataTable, element);\n",
              "          const docLink = document.createElement('div');\n",
              "          docLink.innerHTML = docLinkHtml;\n",
              "          element.appendChild(docLink);\n",
              "        }\n",
              "      </script>\n",
              "    </div>\n",
              "  </div>\n",
              "  "
            ]
          },
          "metadata": {},
          "execution_count": 33
        }
      ],
      "source": [
        "df.head()\n"
      ],
      "id": "VG4e5q69UQgi"
    },
    {
      "cell_type": "code",
      "execution_count": 34,
      "metadata": {
        "id": "pGXIeUm8Zm65"
      },
      "outputs": [],
      "source": [
        "df.drop(['transactionDateTime_year','currentExpDate_day'],axis=1,inplace=True)"
      ],
      "id": "pGXIeUm8Zm65"
    },
    {
      "cell_type": "markdown",
      "metadata": {
        "id": "nRzWvrCoqeI5"
      },
      "source": [
        "## <u>Model Trainings and Testing</u>"
      ],
      "id": "nRzWvrCoqeI5"
    },
    {
      "cell_type": "markdown",
      "metadata": {
        "id": "AyF-WhH9qXJo"
      },
      "source": [
        "Splitting the Data into test and training"
      ],
      "id": "AyF-WhH9qXJo"
    },
    {
      "cell_type": "code",
      "execution_count": 35,
      "metadata": {
        "id": "55fbb9bc-3315-447b-9e3b-47a0e5f972fd"
      },
      "outputs": [],
      "source": [
        "y = df.loc[:,'isFraud']"
      ],
      "id": "55fbb9bc-3315-447b-9e3b-47a0e5f972fd"
    },
    {
      "cell_type": "code",
      "execution_count": 36,
      "metadata": {
        "id": "15093bb8-c57b-4dd7-ad6b-742c08be8bd7"
      },
      "outputs": [],
      "source": [
        "X = df.loc[:, df.columns != 'isFraud']"
      ],
      "id": "15093bb8-c57b-4dd7-ad6b-742c08be8bd7"
    },
    {
      "cell_type": "code",
      "execution_count": 37,
      "metadata": {
        "id": "0a3864b4-4d95-42d4-a069-cce9b37c05ae"
      },
      "outputs": [],
      "source": [
        "X_train, X_test,y_train, y_test = train_test_split(X,y ,\n",
        "                                   random_state=100, \n",
        "                                   test_size=0.25, \n",
        "                                   shuffle=True)"
      ],
      "id": "0a3864b4-4d95-42d4-a069-cce9b37c05ae"
    },
    {
      "cell_type": "code",
      "execution_count": 38,
      "metadata": {
        "colab": {
          "base_uri": "https://localhost:8080/"
        },
        "id": "06957c77-5cd5-4ccf-bf75-2d8628010cf9",
        "outputId": "ca698f26-5151-4668-a5ef-2654a8a4abcd"
      },
      "outputs": [
        {
          "output_type": "stream",
          "name": "stdout",
          "text": [
            "Training Shape\n",
            "--------------\n",
            "Input: (589772, 59)\n",
            "Output: (589772,)\n",
            "\n",
            "Testing Shape\n",
            "--------------\n",
            "Input: (196591, 59)\n",
            "Output: (196591,)\n"
          ]
        }
      ],
      "source": [
        "print('Training Shape\\n--------------')\n",
        "print(f'Input: {X_train.shape}')\n",
        "print(f'Output: {y_train.shape}')\n",
        "\n",
        "print('\\nTesting Shape\\n--------------')\n",
        "print(f'Input: {X_test.shape}')\n",
        "print(f'Output: {y_test.shape}')"
      ],
      "id": "06957c77-5cd5-4ccf-bf75-2d8628010cf9"
    },
    {
      "cell_type": "code",
      "execution_count": 39,
      "metadata": {
        "colab": {
          "base_uri": "https://localhost:8080/",
          "height": 337
        },
        "id": "m9OOqsvnq1Yn",
        "outputId": "582cd71f-b369-4e20-9fb5-b9a34991179f"
      },
      "outputs": [
        {
          "output_type": "execute_result",
          "data": {
            "text/plain": [
              "<matplotlib.axes._subplots.AxesSubplot at 0x7fbd66e971d0>"
            ]
          },
          "metadata": {},
          "execution_count": 39
        },
        {
          "output_type": "display_data",
          "data": {
            "text/plain": [
              "<Figure size 4320x360 with 1 Axes>"
            ],
            "image/png": "[encoded data removed]"
          },
          "metadata": {}
        }
      ],
      "source": [
        "kwargs = dict(\n",
        "    startangle = 90,\n",
        "    colormap   = 'Pastel2',\n",
        "    fontsize   = 13,\n",
        "    explode    = (0.1,0.1),\n",
        "    figsize    = (60,5),\n",
        "    autopct    = '%1.1f%%',\n",
        "    title      = 'isFraud'\n",
        ")\n",
        "\n",
        "y_train.value_counts().plot.pie(**kwargs)"
      ],
      "id": "m9OOqsvnq1Yn"
    },
    {
      "cell_type": "markdown",
      "metadata": {
        "id": "1AIpGmJ7rINg"
      },
      "source": [
        "Clearing this is an imbalanced dataset and we will have to choose a method to balance the data. We will try with oversampling."
      ],
      "id": "1AIpGmJ7rINg"
    },
    {
      "cell_type": "code",
      "execution_count": 40,
      "metadata": {
        "colab": {
          "base_uri": "https://localhost:8080/"
        },
        "id": "48b95bbe-2205-43e9-98ec-116a23dfa47d",
        "outputId": "f7a56b14-f0e0-40a9-8597-9db15f82e6d0"
      },
      "outputs": [
        {
          "output_type": "stream",
          "name": "stdout",
          "text": [
            "Before oversampling:  Counter({0: 580453, 1: 9319})\n",
            "After oversampling:  Counter({0: 580453, 1: 580453})\n"
          ]
        }
      ],
      "source": [
        "# summarize class distribution\n",
        "print(\"Before oversampling: \",Counter(y_train))\n",
        "\n",
        "# define oversampling strategy\n",
        "SMOTE = SMOTE()\n",
        "\n",
        "# fit and apply the transform\n",
        "X_train, y_train = SMOTE.fit_resample(X_train, y_train)\n",
        "\n",
        "# summarize class distribution\n",
        "print(\"After oversampling: \",Counter(y_train))"
      ],
      "id": "48b95bbe-2205-43e9-98ec-116a23dfa47d"
    },
    {
      "cell_type": "markdown",
      "metadata": {
        "id": "faiHiOk4Fqgw"
      },
      "source": [
        "Before fitting, we will create a function, that can print the various metrics related to a model"
      ],
      "id": "faiHiOk4Fqgw"
    },
    {
      "cell_type": "code",
      "execution_count": 41,
      "metadata": {
        "id": "XN9hZa4dF1CK"
      },
      "outputs": [],
      "source": [
        "def get_metrics(y_test, y_pred):\n",
        "  # Model Accuracy\n",
        "  print(\"Accuracy:\",metrics.accuracy_score(y_test, y_pred))\n",
        "  cm = confusion_matrix(y_test, y_pred)\n",
        "\n",
        "  print('Confusion matrix\\n\\n', cm)\n",
        "\n",
        "  print('\\nTrue Positives(TP) = ', cm[0,0])\n",
        "\n",
        "  print('\\nTrue Negatives(TN) = ', cm[1,1])\n",
        "\n",
        "  print('\\nFalse Positives(FP) = ', cm[0,1])\n",
        "\n",
        "  print('\\nFalse Negatives(FN) = ', cm[1,0])\n",
        "\n",
        "  print(classification_report(y_test, y_pred))\n",
        "  TP = cm[0,0]\n",
        "  TN = cm[1,1]\n",
        "  FP = cm[0,1]\n",
        "  FN = cm[1,0]\n",
        "  precision = TP / float(TP + FP)\n",
        "\n",
        "\n",
        "  print('Precision : {0:0.4f}'.format(precision))\n",
        "\n",
        "  recall = TP / float(TP + FN)\n",
        "\n",
        "  print('Recall : {0:0.4f}'.format(recall))\n",
        "\n",
        "  \n"
      ],
      "id": "XN9hZa4dF1CK"
    },
    {
      "cell_type": "markdown",
      "source": [
        "For imbalanced datasets, recall and AUC Curve gives better information about a model's performance. Especially, in our case, it was important for the model to be able to identify fraud transactions"
      ],
      "metadata": {
        "id": "LS0NtFlBP-rz"
      },
      "id": "LS0NtFlBP-rz"
    },
    {
      "cell_type": "code",
      "source": [
        "from sklearn.metrics import roc_curve\n",
        "\n",
        "from sklearn.metrics import roc_auc_score\n",
        "def print_auc_curve(model, X_test,y_test,model_name=\"Model\"):\n",
        "  pred_prob = model.predict_proba(X_test)\n",
        "\n",
        "  # roc curve for models\n",
        "  fpr1, tpr1, thresh1 = roc_curve(y_test, pred_prob[:,1], pos_label=1)\n",
        "\n",
        "\n",
        "  # roc curve for tpr = fpr \n",
        "  random_probs = [0 for i in range(len(y_test))]\n",
        "  p_fpr, p_tpr, _ = roc_curve(y_test, random_probs, pos_label=1)\n",
        "\n",
        "  # auc scores\n",
        "  auc_score = roc_auc_score(y_test, pred_prob[:,1])\n",
        "\n",
        "  print(\"AUC Score\",auc_score)\n",
        "\n",
        "  # matplotlib\n",
        "  import matplotlib.pyplot as plt\n",
        "  plt.style.use('seaborn')\n",
        "\n",
        "  # plot roc curves\n",
        "  plt.plot(fpr1, tpr1, linestyle='--',color='orange', label=model_name)\n",
        "\n",
        "  plt.plot(p_fpr, p_tpr, linestyle='--', color='blue')\n",
        "  # title\n",
        "  plt.title('ROC curve')\n",
        "  # x label\n",
        "  plt.xlabel('False Positive Rate')\n",
        "  # y label\n",
        "  plt.ylabel('True Positive rate')\n",
        "\n",
        "  plt.legend(loc='best')\n",
        "  plt.savefig(model_name,dpi=300)\n",
        "  plt.show();"
      ],
      "metadata": {
        "id": "BNRVxCcQFwSs"
      },
      "id": "BNRVxCcQFwSs",
      "execution_count": 42,
      "outputs": []
    },
    {
      "cell_type": "markdown",
      "metadata": {
        "id": "g7Ub7LXoUtX1"
      },
      "source": [
        "<u>Naive Bayes Classifier</u>"
      ],
      "id": "g7Ub7LXoUtX1"
    },
    {
      "cell_type": "code",
      "execution_count": 43,
      "metadata": {
        "id": "8d1e95f2-2380-49ff-a68e-91c5964ccae9"
      },
      "outputs": [],
      "source": [
        "from sklearn.naive_bayes import GaussianNB\n",
        "\n",
        "#Create a Gaussian Classifier\n",
        "model = GaussianNB()\n",
        "\n",
        "# Train the model using the training sets\n",
        "model.fit(X_train,y_train)\n",
        "\n",
        "#Predict Output\n",
        "y_pred= model.predict(X_test)"
      ],
      "id": "8d1e95f2-2380-49ff-a68e-91c5964ccae9"
    },
    {
      "cell_type": "code",
      "execution_count": 44,
      "metadata": {
        "colab": {
          "base_uri": "https://localhost:8080/"
        },
        "id": "5P8ztu9gJQuI",
        "outputId": "bba606d7-66b2-4a35-a8ec-a5ca74bf6029"
      },
      "outputs": [
        {
          "output_type": "execute_result",
          "data": {
            "text/plain": [
              "0.6478310905447986"
            ]
          },
          "metadata": {},
          "execution_count": 44
        }
      ],
      "source": [
        "model.score(X_train,y_train)"
      ],
      "id": "5P8ztu9gJQuI"
    },
    {
      "cell_type": "code",
      "execution_count": 45,
      "metadata": {
        "colab": {
          "base_uri": "https://localhost:8080/"
        },
        "id": "R-BuNQ59EgKF",
        "outputId": "d93ad09b-8222-44ab-fb1b-ea7bc8baabb1"
      },
      "outputs": [
        {
          "output_type": "stream",
          "name": "stdout",
          "text": [
            "Accuracy: 0.33113418213448226\n",
            "Confusion matrix\n",
            "\n",
            " [[ 62577 130916]\n",
            " [   577   2521]]\n",
            "\n",
            "True Positives(TP) =  62577\n",
            "\n",
            "True Negatives(TN) =  2521\n",
            "\n",
            "False Positives(FP) =  130916\n",
            "\n",
            "False Negatives(FN) =  577\n",
            "              precision    recall  f1-score   support\n",
            "\n",
            "           0       0.99      0.32      0.49    193493\n",
            "           1       0.02      0.81      0.04      3098\n",
            "\n",
            "    accuracy                           0.33    196591\n",
            "   macro avg       0.50      0.57      0.26    196591\n",
            "weighted avg       0.98      0.33      0.48    196591\n",
            "\n",
            "Precision : 0.3234\n",
            "Recall : 0.9909\n"
          ]
        }
      ],
      "source": [
        "get_metrics(y_test,y_pred)"
      ],
      "id": "R-BuNQ59EgKF"
    },
    {
      "cell_type": "code",
      "source": [
        "print_auc_curve(model,X_test,y_test,\"Naive Bayes\")"
      ],
      "metadata": {
        "colab": {
          "base_uri": "https://localhost:8080/",
          "height": 393
        },
        "id": "bKJhtxqXJ5lg",
        "outputId": "102e88ed-106a-4040-f1f4-e0f78c635880"
      },
      "id": "bKJhtxqXJ5lg",
      "execution_count": 46,
      "outputs": [
        {
          "output_type": "stream",
          "name": "stdout",
          "text": [
            "AUC Score 0.5769782978288347\n"
          ]
        },
        {
          "output_type": "display_data",
          "data": {
            "text/plain": [
              "<Figure size 576x396 with 1 Axes>"
            ],
            "image/png": "[encoded data removed]"
          },
          "metadata": {}
        }
      ]
    },
    {
      "cell_type": "code",
      "execution_count": 47,
      "metadata": {
        "colab": {
          "base_uri": "https://localhost:8080/"
        },
        "id": "DSybwzXgdwUZ",
        "outputId": "95030058-39a8-4816-ebae-664522381904"
      },
      "outputs": [
        {
          "output_type": "stream",
          "name": "stdout",
          "text": [
            "[0.63398541 0.64988953 0.64877832 0.64938992 0.64934254]\n",
            "0.6462771424144027\n"
          ]
        }
      ],
      "source": [
        "from sklearn.model_selection import cross_val_score\n",
        "classifier = GaussianNB()\n",
        "classes = y_train.values\n",
        "scores = cross_val_score(classifier, X_train, y_train, cv=5)\n",
        "\n",
        "# Print the accuracy of each fold:\n",
        "print(scores)\n",
        "\n",
        "# Print the mean accuracy of all 5 folds\n",
        "print(scores.mean())"
      ],
      "id": "DSybwzXgdwUZ"
    },
    {
      "cell_type": "markdown",
      "metadata": {
        "id": "GFgX1rxwJlms"
      },
      "source": [
        "Clearly, we can see that there is major difference in accuracy for training and test data. Also cross validation is not helping with the accuracy. It's precision at predicting the fraud transaction also seems bad. The recall value appears to be high, because it seems have predicted a lot of false positives. Also, naive Bayes has almost no hyperparameters to tune. One thing to note is that due to the feature independence assumption, the class probabilities output by naive Bayes can be pretty inaccurate. We can try other models and check."
      ],
      "id": "GFgX1rxwJlms"
    },
    {
      "cell_type": "markdown",
      "metadata": {
        "id": "xNmwCxYhLTl_"
      },
      "source": [
        "<u>Logistic Regession</u>"
      ],
      "id": "xNmwCxYhLTl_"
    },
    {
      "cell_type": "code",
      "execution_count": 48,
      "metadata": {
        "colab": {
          "base_uri": "https://localhost:8080/"
        },
        "id": "JwLUXGlmJiBc",
        "outputId": "c1fa32c4-35e2-4f00-f856-b2558209bcc3"
      },
      "outputs": [
        {
          "output_type": "stream",
          "name": "stderr",
          "text": [
            "/usr/local/lib/python3.7/dist-packages/sklearn/linear_model/_logistic.py:818: ConvergenceWarning: lbfgs failed to converge (status=1):\n",
            "STOP: TOTAL NO. of ITERATIONS REACHED LIMIT.\n",
            "\n",
            "Increase the number of iterations (max_iter) or scale the data as shown in:\n",
            "    https://scikit-learn.org/stable/modules/preprocessing.html\n",
            "Please also refer to the documentation for alternative solver options:\n",
            "    https://scikit-learn.org/stable/modules/linear_model.html#logistic-regression\n",
            "  extra_warning_msg=_LOGISTIC_SOLVER_CONVERGENCE_MSG,\n"
          ]
        }
      ],
      "source": [
        "# all parameters not specified are set to their defaults\n",
        "model = LogisticRegression()\n",
        "model.fit(X_train, y_train)\n",
        "y_pred = model.predict(X_test)"
      ],
      "id": "JwLUXGlmJiBc"
    },
    {
      "cell_type": "code",
      "execution_count": 49,
      "metadata": {
        "colab": {
          "base_uri": "https://localhost:8080/"
        },
        "id": "Lb9NjoWZhyLx",
        "outputId": "766d3bd8-8ecb-43c1-9ab4-d56ab75d4d15"
      },
      "outputs": [
        {
          "output_type": "execute_result",
          "data": {
            "text/plain": [
              "0.869159949212081"
            ]
          },
          "metadata": {},
          "execution_count": 49
        }
      ],
      "source": [
        "model.score(X_train,y_train)\n"
      ],
      "id": "Lb9NjoWZhyLx"
    },
    {
      "cell_type": "code",
      "execution_count": 50,
      "metadata": {
        "colab": {
          "base_uri": "https://localhost:8080/"
        },
        "id": "Gr0iClPWL1mc",
        "outputId": "da5bf53d-be0b-4908-ed57-1219ff53d7d0"
      },
      "outputs": [
        {
          "output_type": "stream",
          "name": "stdout",
          "text": [
            "Accuracy: 0.9072032799059977\n",
            "Confusion matrix\n",
            "\n",
            " [[177525  15968]\n",
            " [  2275    823]]\n",
            "\n",
            "True Positives(TP) =  177525\n",
            "\n",
            "True Negatives(TN) =  823\n",
            "\n",
            "False Positives(FP) =  15968\n",
            "\n",
            "False Negatives(FN) =  2275\n",
            "              precision    recall  f1-score   support\n",
            "\n",
            "           0       0.99      0.92      0.95    193493\n",
            "           1       0.05      0.27      0.08      3098\n",
            "\n",
            "    accuracy                           0.91    196591\n",
            "   macro avg       0.52      0.59      0.52    196591\n",
            "weighted avg       0.97      0.91      0.94    196591\n",
            "\n",
            "Precision : 0.9175\n",
            "Recall : 0.9873\n"
          ]
        }
      ],
      "source": [
        "get_metrics(y_test,y_pred)"
      ],
      "id": "Gr0iClPWL1mc"
    },
    {
      "cell_type": "code",
      "source": [
        "print_auc_curve(model,X_test,y_test,\"Logistic Regression\")"
      ],
      "metadata": {
        "colab": {
          "base_uri": "https://localhost:8080/",
          "height": 393
        },
        "id": "KZsYssSVJsjP",
        "outputId": "af5e0f8e-0029-4367-b5bb-e6e3f2797ea0"
      },
      "id": "KZsYssSVJsjP",
      "execution_count": 51,
      "outputs": [
        {
          "output_type": "stream",
          "name": "stdout",
          "text": [
            "AUC Score 0.6915467374676147\n"
          ]
        },
        {
          "output_type": "display_data",
          "data": {
            "text/plain": [
              "<Figure size 576x396 with 1 Axes>"
            ],
            "image/png": "[encoded data removed]"
          },
          "metadata": {}
        }
      ]
    },
    {
      "cell_type": "markdown",
      "source": [
        "Hyperparameter Tuning"
      ],
      "metadata": {
        "id": "Wksz6L3QLHXE"
      },
      "id": "Wksz6L3QLHXE"
    },
    {
      "cell_type": "code",
      "source": [
        "# all parameters not specified are set to their defaults\n",
        "model = LogisticRegression(C=0.01, solver='liblinear')\n",
        "model.fit(X_train, y_train)\n",
        "y_pred = model.predict(X_test)\n"
      ],
      "metadata": {
        "id": "VGYuzH7RLMdg"
      },
      "id": "VGYuzH7RLMdg",
      "execution_count": 52,
      "outputs": []
    },
    {
      "cell_type": "code",
      "source": [
        "get_metrics(y_test,y_pred)"
      ],
      "metadata": {
        "colab": {
          "base_uri": "https://localhost:8080/"
        },
        "id": "jjDqthD0MUeb",
        "outputId": "a4b44985-74d7-42d8-9ad4-c1ab534d66ae"
      },
      "id": "jjDqthD0MUeb",
      "execution_count": 53,
      "outputs": [
        {
          "output_type": "stream",
          "name": "stdout",
          "text": [
            "Accuracy: 0.9046701018866581\n",
            "Confusion matrix\n",
            "\n",
            " [[176985  16508]\n",
            " [  2233    865]]\n",
            "\n",
            "True Positives(TP) =  176985\n",
            "\n",
            "True Negatives(TN) =  865\n",
            "\n",
            "False Positives(FP) =  16508\n",
            "\n",
            "False Negatives(FN) =  2233\n",
            "              precision    recall  f1-score   support\n",
            "\n",
            "           0       0.99      0.91      0.95    193493\n",
            "           1       0.05      0.28      0.08      3098\n",
            "\n",
            "    accuracy                           0.90    196591\n",
            "   macro avg       0.52      0.60      0.52    196591\n",
            "weighted avg       0.97      0.90      0.94    196591\n",
            "\n",
            "Precision : 0.9147\n",
            "Recall : 0.9875\n"
          ]
        }
      ]
    },
    {
      "cell_type": "code",
      "source": [
        "print_auc_curve(model,X_test,y_test,\"Logistic Regression\")"
      ],
      "metadata": {
        "colab": {
          "base_uri": "https://localhost:8080/",
          "height": 393
        },
        "id": "S-Ng9VtcMad8",
        "outputId": "4a5eb3d1-4257-41d9-d376-7ef2d26ac56c"
      },
      "id": "S-Ng9VtcMad8",
      "execution_count": 54,
      "outputs": [
        {
          "output_type": "stream",
          "name": "stdout",
          "text": [
            "AUC Score 0.700204941162931\n"
          ]
        },
        {
          "output_type": "display_data",
          "data": {
            "text/plain": [
              "<Figure size 576x396 with 1 Axes>"
            ],
            "image/png": "[encoded data removed]"
          },
          "metadata": {}
        }
      ]
    },
    {
      "cell_type": "markdown",
      "metadata": {
        "id": "lX1cGY0LPFV4"
      },
      "source": [
        "<u> Decision Tree Classifier </u>"
      ],
      "id": "lX1cGY0LPFV4"
    },
    {
      "cell_type": "code",
      "execution_count": 55,
      "metadata": {
        "id": "PPDMwZRmPCTT"
      },
      "outputs": [],
      "source": [
        "model = DecisionTreeClassifier()\n",
        "# Training and Predicting\n",
        "\n",
        "model.fit(X_train,y_train)\n",
        "y_pred = model.predict(X_test)"
      ],
      "id": "PPDMwZRmPCTT"
    },
    {
      "cell_type": "code",
      "execution_count": 56,
      "metadata": {
        "colab": {
          "base_uri": "https://localhost:8080/"
        },
        "id": "HUB9aw9_Pr9A",
        "outputId": "9adce579-e722-4e30-9ed1-d2e0b258d908"
      },
      "outputs": [
        {
          "output_type": "execute_result",
          "data": {
            "text/plain": [
              "1.0"
            ]
          },
          "metadata": {},
          "execution_count": 56
        }
      ],
      "source": [
        "model.score(X_train,y_train)"
      ],
      "id": "HUB9aw9_Pr9A"
    },
    {
      "cell_type": "code",
      "execution_count": 57,
      "metadata": {
        "colab": {
          "base_uri": "https://localhost:8080/"
        },
        "id": "Dl5p_H6hPsmJ",
        "outputId": "63c58ac6-a692-418e-ff31-efa4b2b7d10c"
      },
      "outputs": [
        {
          "output_type": "stream",
          "name": "stdout",
          "text": [
            "Accuracy: 0.9587620999944046\n",
            "Confusion matrix\n",
            "\n",
            " [[188169   5324]\n",
            " [  2783    315]]\n",
            "\n",
            "True Positives(TP) =  188169\n",
            "\n",
            "True Negatives(TN) =  315\n",
            "\n",
            "False Positives(FP) =  5324\n",
            "\n",
            "False Negatives(FN) =  2783\n",
            "              precision    recall  f1-score   support\n",
            "\n",
            "           0       0.99      0.97      0.98    193493\n",
            "           1       0.06      0.10      0.07      3098\n",
            "\n",
            "    accuracy                           0.96    196591\n",
            "   macro avg       0.52      0.54      0.53    196591\n",
            "weighted avg       0.97      0.96      0.96    196591\n",
            "\n",
            "Precision : 0.9725\n",
            "Recall : 0.9854\n"
          ]
        }
      ],
      "source": [
        "get_metrics(y_test,y_pred)"
      ],
      "id": "Dl5p_H6hPsmJ"
    },
    {
      "cell_type": "code",
      "source": [
        "print_auc_curve(model,X_test,y_test,\"Decision Tree\")"
      ],
      "metadata": {
        "colab": {
          "base_uri": "https://localhost:8080/",
          "height": 393
        },
        "id": "DhFyL0B2JiIa",
        "outputId": "7e1814c3-2597-48aa-b8c3-dbf472a88c9d"
      },
      "id": "DhFyL0B2JiIa",
      "execution_count": 58,
      "outputs": [
        {
          "output_type": "stream",
          "name": "stdout",
          "text": [
            "AUC Score 0.5370816474955212\n"
          ]
        },
        {
          "output_type": "display_data",
          "data": {
            "text/plain": [
              "<Figure size 576x396 with 1 Axes>"
            ],
            "image/png": "[encoded data removed]"
          },
          "metadata": {}
        }
      ]
    },
    {
      "cell_type": "markdown",
      "metadata": {
        "id": "M3ZiLIyBQWVG"
      },
      "source": [
        "<u>Random Forrest Classifer</u>"
      ],
      "id": "M3ZiLIyBQWVG"
    },
    {
      "cell_type": "code",
      "execution_count": 59,
      "metadata": {
        "id": "_8AaXnQlQcf6"
      },
      "outputs": [],
      "source": [
        "# creating a RF classifier\n",
        "model = RandomForestClassifier(n_estimators = 100) \n",
        " \n",
        "# Training the model on the training dataset\n",
        "# fit function is used to train the model using the training sets as parameters\n",
        "model.fit(X_train, y_train)\n",
        " \n",
        "# performing predictions on the test dataset\n",
        "y_pred = model.predict(X_test)\n"
      ],
      "id": "_8AaXnQlQcf6"
    },
    {
      "cell_type": "code",
      "execution_count": 60,
      "metadata": {
        "colab": {
          "base_uri": "https://localhost:8080/"
        },
        "id": "rtNJrfiPRe_y",
        "outputId": "55379f7b-e10d-448e-bd3f-912398526578"
      },
      "outputs": [
        {
          "output_type": "execute_result",
          "data": {
            "text/plain": [
              "0.9999965544152585"
            ]
          },
          "metadata": {},
          "execution_count": 60
        }
      ],
      "source": [
        "model.score(X_train,y_train)"
      ],
      "id": "rtNJrfiPRe_y"
    },
    {
      "cell_type": "code",
      "execution_count": 61,
      "metadata": {
        "colab": {
          "base_uri": "https://localhost:8080/"
        },
        "id": "lPtNKl-YRffq",
        "outputId": "0f1b2b47-075c-4ff4-da0b-76f4c9eb9edc"
      },
      "outputs": [
        {
          "output_type": "stream",
          "name": "stdout",
          "text": [
            "Accuracy: 0.9835038226571918\n",
            "Confusion matrix\n",
            "\n",
            " [[193259    234]\n",
            " [  3009     89]]\n",
            "\n",
            "True Positives(TP) =  193259\n",
            "\n",
            "True Negatives(TN) =  89\n",
            "\n",
            "False Positives(FP) =  234\n",
            "\n",
            "False Negatives(FN) =  3009\n",
            "              precision    recall  f1-score   support\n",
            "\n",
            "           0       0.98      1.00      0.99    193493\n",
            "           1       0.28      0.03      0.05      3098\n",
            "\n",
            "    accuracy                           0.98    196591\n",
            "   macro avg       0.63      0.51      0.52    196591\n",
            "weighted avg       0.97      0.98      0.98    196591\n",
            "\n",
            "Precision : 0.9988\n",
            "Recall : 0.9847\n"
          ]
        }
      ],
      "source": [
        "get_metrics(y_test,y_pred)"
      ],
      "id": "lPtNKl-YRffq"
    },
    {
      "cell_type": "code",
      "source": [
        "print_auc_curve(model,X_test,y_test,\"Random Forrest\")"
      ],
      "metadata": {
        "colab": {
          "base_uri": "https://localhost:8080/",
          "height": 393
        },
        "id": "8rZhLBFBJd51",
        "outputId": "43111b3c-db30-41fa-c898-9be205002bd3"
      },
      "id": "8rZhLBFBJd51",
      "execution_count": 62,
      "outputs": [
        {
          "output_type": "stream",
          "name": "stdout",
          "text": [
            "AUC Score 0.7728301089370695\n"
          ]
        },
        {
          "output_type": "display_data",
          "data": {
            "text/plain": [
              "<Figure size 576x396 with 1 Axes>"
            ],
            "image/png": "[encoded data removed]"
          },
          "metadata": {}
        }
      ]
    },
    {
      "cell_type": "markdown",
      "metadata": {
        "id": "GeeJKOyXNDXd"
      },
      "source": [
        "Hyper-paramter tuning"
      ],
      "id": "GeeJKOyXNDXd"
    },
    {
      "cell_type": "code",
      "execution_count": 63,
      "metadata": {
        "id": "R9O9sweVN56J",
        "colab": {
          "base_uri": "https://localhost:8080/"
        },
        "outputId": "b2305be8-571f-4aa5-ab7e-35231b1ab42f"
      },
      "outputs": [
        {
          "output_type": "stream",
          "name": "stderr",
          "text": [
            "[Parallel(n_jobs=-1)]: Using backend ThreadingBackend with 2 concurrent workers.\n",
            "[Parallel(n_jobs=-1)]: Done  46 tasks      | elapsed:  1.2min\n",
            "[Parallel(n_jobs=-1)]: Done 100 out of 100 | elapsed:  2.6min finished\n",
            "[Parallel(n_jobs=2)]: Using backend ThreadingBackend with 2 concurrent workers.\n",
            "[Parallel(n_jobs=2)]: Done  46 tasks      | elapsed:    2.7s\n",
            "[Parallel(n_jobs=2)]: Done 100 out of 100 | elapsed:    5.8s finished\n"
          ]
        }
      ],
      "source": [
        "y = df.loc[:,'isFraud']\n",
        "X = df.loc[:, df.columns != 'isFraud']\n",
        "X_train, X_test,y_train, y_test = train_test_split(X,y ,\n",
        "                                   random_state=100, \n",
        "                                   test_size=0.25, \n",
        "                                   shuffle=True)\n",
        "# creating a RF classifier\n",
        "model = RandomForestClassifier(n_estimators=100, class_weight='balanced_subsample',criterion='entropy',max_features = 'log2',verbose=1, n_jobs=-1) \n",
        " \n",
        "# Training the model on the training dataset\n",
        "# fit function is used to train the model using the training sets as parameters\n",
        "model.fit(X_train, y_train)\n",
        " \n",
        "# performing predictions on the test dataset\n",
        "y_pred = model.predict(X_test)"
      ],
      "id": "R9O9sweVN56J"
    },
    {
      "cell_type": "code",
      "source": [
        "get_metrics(y_test,y_pred)"
      ],
      "metadata": {
        "colab": {
          "base_uri": "https://localhost:8080/"
        },
        "id": "YDblLN_S7Ds5",
        "outputId": "9ae37a17-fc53-4bc4-b3f0-ff810010f2f7"
      },
      "id": "YDblLN_S7Ds5",
      "execution_count": 64,
      "outputs": [
        {
          "output_type": "stream",
          "name": "stdout",
          "text": [
            "Accuracy: 0.9843176951132045\n",
            "Confusion matrix\n",
            "\n",
            " [[193493      0]\n",
            " [  3083     15]]\n",
            "\n",
            "True Positives(TP) =  193493\n",
            "\n",
            "True Negatives(TN) =  15\n",
            "\n",
            "False Positives(FP) =  0\n",
            "\n",
            "False Negatives(FN) =  3083\n",
            "              precision    recall  f1-score   support\n",
            "\n",
            "           0       0.98      1.00      0.99    193493\n",
            "           1       1.00      0.00      0.01      3098\n",
            "\n",
            "    accuracy                           0.98    196591\n",
            "   macro avg       0.99      0.50      0.50    196591\n",
            "weighted avg       0.98      0.98      0.98    196591\n",
            "\n",
            "Precision : 1.0000\n",
            "Recall : 0.9843\n"
          ]
        }
      ]
    },
    {
      "cell_type": "code",
      "source": [
        "print_auc_curve(model,X_test,y_test,\"Random Forrest\")"
      ],
      "metadata": {
        "colab": {
          "base_uri": "https://localhost:8080/",
          "height": 445
        },
        "id": "VqF4xREFKFwJ",
        "outputId": "6a53716b-b34a-4824-cf2f-851acb48b5df"
      },
      "id": "VqF4xREFKFwJ",
      "execution_count": 65,
      "outputs": [
        {
          "output_type": "stream",
          "name": "stderr",
          "text": [
            "[Parallel(n_jobs=2)]: Using backend ThreadingBackend with 2 concurrent workers.\n",
            "[Parallel(n_jobs=2)]: Done  46 tasks      | elapsed:    2.7s\n",
            "[Parallel(n_jobs=2)]: Done 100 out of 100 | elapsed:    6.6s finished\n"
          ]
        },
        {
          "output_type": "stream",
          "name": "stdout",
          "text": [
            "AUC Score 0.7632671027409366\n"
          ]
        },
        {
          "output_type": "display_data",
          "data": {
            "text/plain": [
              "<Figure size 576x396 with 1 Axes>"
            ],
            "image/png": "[encoded data removed]"
          },
          "metadata": {}
        }
      ]
    },
    {
      "cell_type": "markdown",
      "metadata": {
        "id": "AT_MxtC_bjYW"
      },
      "source": [
        "We can clearly see the accuracy is high. But the reason is it is predicting everything as 0 and this might be the reason. The model's ability to predict fraud i.e. data with label 1 seems to be pretty low. Hence, another approach to dealing with imbalanced dataset is undersampling and we can try that next."
      ],
      "id": "AT_MxtC_bjYW"
    },
    {
      "cell_type": "markdown",
      "metadata": {
        "id": "R7k9ZQm_cGph"
      },
      "source": [
        "### <u>Undersampling the data set</u>"
      ],
      "id": "R7k9ZQm_cGph"
    },
    {
      "cell_type": "code",
      "execution_count": 66,
      "metadata": {
        "id": "ccj7k6CVcMtk"
      },
      "outputs": [],
      "source": [
        "from sklearn.utils import resample\n",
        "# Separate majority and minority classes\n",
        "df_majority = df[df.isFraud==0]\n",
        "df_minority = df[df.isFraud==1]\n",
        "\n",
        "# Downsample majority class\n",
        "df_majority_downsampled = resample(df_majority, \n",
        "                                 replace=False,    # sample without replacement\n",
        "                                 n_samples=df_minority.shape[0],     # to match minority class\n",
        "                                 random_state=123)"
      ],
      "id": "ccj7k6CVcMtk"
    },
    {
      "cell_type": "code",
      "execution_count": 67,
      "metadata": {
        "id": "wdNVsjn0cuWO"
      },
      "outputs": [],
      "source": [
        "# Combine minority class with downsampled majority class\n",
        "df_downsampled = pd.concat([df_majority_downsampled, df_minority])"
      ],
      "id": "wdNVsjn0cuWO"
    },
    {
      "cell_type": "markdown",
      "metadata": {
        "id": "U13ZLabUd8C8"
      },
      "source": [
        "We will again apply the models - Naive Bayes, Logistic Regression and Random Forrest"
      ],
      "id": "U13ZLabUd8C8"
    },
    {
      "cell_type": "code",
      "execution_count": 68,
      "metadata": {
        "id": "IZlJFvJqd6G9"
      },
      "outputs": [],
      "source": [
        "y = df_downsampled.loc[:,'isFraud']\n",
        "X = df_downsampled.loc[:, df.columns != 'isFraud']\n",
        "X_train, X_test,y_train, y_test = train_test_split(X,y ,\n",
        "                                   random_state=100, \n",
        "                                   test_size=0.25, \n",
        "                                   shuffle=True)"
      ],
      "id": "IZlJFvJqd6G9"
    },
    {
      "cell_type": "code",
      "execution_count": 69,
      "metadata": {
        "id": "jMMSBBjbeMEq",
        "colab": {
          "base_uri": "https://localhost:8080/"
        },
        "outputId": "fe7590ef-b4d5-4570-f705-7145956b637e"
      },
      "outputs": [
        {
          "output_type": "stream",
          "name": "stdout",
          "text": [
            "Training Shape\n",
            "--------------\n",
            "Input: (18625, 59)\n",
            "Output: (18625,)\n",
            "\n",
            "Testing Shape\n",
            "--------------\n",
            "Input: (6209, 59)\n",
            "Output: (6209,)\n"
          ]
        }
      ],
      "source": [
        "print('Training Shape\\n--------------')\n",
        "print(f'Input: {X_train.shape}')\n",
        "print(f'Output: {y_train.shape}')\n",
        "\n",
        "print('\\nTesting Shape\\n--------------')\n",
        "print(f'Input: {X_test.shape}')\n",
        "print(f'Output: {y_test.shape}')"
      ],
      "id": "jMMSBBjbeMEq"
    },
    {
      "cell_type": "code",
      "execution_count": 70,
      "metadata": {
        "id": "XDmuCgw2ePPJ"
      },
      "outputs": [],
      "source": [
        "kwargs = dict(\n",
        "    startangle = 90,\n",
        "    colormap   = 'Pastel2',\n",
        "    fontsize   = 13,\n",
        "    explode    = (0.1,0.1),\n",
        "    figsize    = (60,5),\n",
        "    autopct    = '%1.1f%%',\n",
        "    title      = 'isFraud'\n",
        ")"
      ],
      "id": "XDmuCgw2ePPJ"
    },
    {
      "cell_type": "code",
      "execution_count": 71,
      "metadata": {
        "id": "Da09wVy6eR7B",
        "colab": {
          "base_uri": "https://localhost:8080/",
          "height": 335
        },
        "outputId": "fd656599-d043-4691-be04-071ef807f403"
      },
      "outputs": [
        {
          "output_type": "execute_result",
          "data": {
            "text/plain": [
              "0.5557583892617449"
            ]
          },
          "metadata": {},
          "execution_count": 71
        },
        {
          "output_type": "display_data",
          "data": {
            "text/plain": [
              "<Figure size 4320x360 with 1 Axes>"
            ],
            "image/png": "[encoded data removed]"
          },
          "metadata": {}
        }
      ],
      "source": [
        "from sklearn.naive_bayes import GaussianNB\n",
        "\n",
        "#Create a Gaussian Classifier\n",
        "model = GaussianNB()\n",
        "\n",
        "# Train the model using the training sets\n",
        "model.fit(X_train,y_train)\n",
        "\n",
        "#Predict Output\n",
        "y_pred= model.predict(X_test)\n",
        "\n",
        "y_train.value_counts().plot.pie(**kwargs)\n",
        "\n",
        "model.score(X_train,y_train)"
      ],
      "id": "Da09wVy6eR7B"
    },
    {
      "cell_type": "code",
      "execution_count": 72,
      "metadata": {
        "id": "DQOCgsjVeW1Q",
        "colab": {
          "base_uri": "https://localhost:8080/"
        },
        "outputId": "ee45e1f9-7402-4836-adec-e7bc9892d89d"
      },
      "outputs": [
        {
          "output_type": "stream",
          "name": "stdout",
          "text": [
            "Accuracy: 0.5517796746658077\n",
            "Confusion matrix\n",
            "\n",
            " [[ 385 2752]\n",
            " [  31 3041]]\n",
            "\n",
            "True Positives(TP) =  385\n",
            "\n",
            "True Negatives(TN) =  3041\n",
            "\n",
            "False Positives(FP) =  2752\n",
            "\n",
            "False Negatives(FN) =  31\n",
            "              precision    recall  f1-score   support\n",
            "\n",
            "           0       0.93      0.12      0.22      3137\n",
            "           1       0.52      0.99      0.69      3072\n",
            "\n",
            "    accuracy                           0.55      6209\n",
            "   macro avg       0.73      0.56      0.45      6209\n",
            "weighted avg       0.73      0.55      0.45      6209\n",
            "\n",
            "Precision : 0.1227\n",
            "Recall : 0.9255\n"
          ]
        }
      ],
      "source": [
        "get_metrics(y_test,y_pred)"
      ],
      "id": "DQOCgsjVeW1Q"
    },
    {
      "cell_type": "code",
      "source": [
        "print_auc_curve(model,X_test,y_test,\"Naive Bayes\")"
      ],
      "metadata": {
        "colab": {
          "base_uri": "https://localhost:8080/",
          "height": 393
        },
        "id": "ijYlBVZNJL6J",
        "outputId": "10ae2be7-b1a9-4e04-ff05-16693b9dba7e"
      },
      "id": "ijYlBVZNJL6J",
      "execution_count": 73,
      "outputs": [
        {
          "output_type": "stream",
          "name": "stdout",
          "text": [
            "AUC Score 0.58398017238803\n"
          ]
        },
        {
          "output_type": "display_data",
          "data": {
            "text/plain": [
              "<Figure size 576x396 with 1 Axes>"
            ],
            "image/png": "[encoded data removed]"
          },
          "metadata": {}
        }
      ]
    },
    {
      "cell_type": "code",
      "execution_count": 74,
      "metadata": {
        "id": "xuODTAXleZiy",
        "colab": {
          "base_uri": "https://localhost:8080/"
        },
        "outputId": "508722c3-764d-45fb-d1b8-d49ca4dceb67"
      },
      "outputs": [
        {
          "output_type": "stream",
          "name": "stderr",
          "text": [
            "/usr/local/lib/python3.7/dist-packages/sklearn/linear_model/_logistic.py:818: ConvergenceWarning: lbfgs failed to converge (status=1):\n",
            "STOP: TOTAL NO. of ITERATIONS REACHED LIMIT.\n",
            "\n",
            "Increase the number of iterations (max_iter) or scale the data as shown in:\n",
            "    https://scikit-learn.org/stable/modules/preprocessing.html\n",
            "Please also refer to the documentation for alternative solver options:\n",
            "    https://scikit-learn.org/stable/modules/linear_model.html#logistic-regression\n",
            "  extra_warning_msg=_LOGISTIC_SOLVER_CONVERGENCE_MSG,\n"
          ]
        },
        {
          "output_type": "execute_result",
          "data": {
            "text/plain": [
              "0.6785503355704698"
            ]
          },
          "metadata": {},
          "execution_count": 74
        }
      ],
      "source": [
        "# all parameters not specified are set to their defaults\n",
        "model = LogisticRegression()\n",
        "model.fit(X_train, y_train)\n",
        "y_pred = model.predict(X_test)\n",
        "model.score(X_train,y_train)"
      ],
      "id": "xuODTAXleZiy"
    },
    {
      "cell_type": "code",
      "execution_count": 75,
      "metadata": {
        "id": "cyYvelgrehbM",
        "colab": {
          "base_uri": "https://localhost:8080/"
        },
        "outputId": "afa927f4-074c-453f-e855-fb1cc515ca39"
      },
      "outputs": [
        {
          "output_type": "stream",
          "name": "stdout",
          "text": [
            "Accuracy: 0.6733773554517636\n",
            "Confusion matrix\n",
            "\n",
            " [[2035 1102]\n",
            " [ 926 2146]]\n",
            "\n",
            "True Positives(TP) =  2035\n",
            "\n",
            "True Negatives(TN) =  2146\n",
            "\n",
            "False Positives(FP) =  1102\n",
            "\n",
            "False Negatives(FN) =  926\n",
            "              precision    recall  f1-score   support\n",
            "\n",
            "           0       0.69      0.65      0.67      3137\n",
            "           1       0.66      0.70      0.68      3072\n",
            "\n",
            "    accuracy                           0.67      6209\n",
            "   macro avg       0.67      0.67      0.67      6209\n",
            "weighted avg       0.67      0.67      0.67      6209\n",
            "\n",
            "Precision : 0.6487\n",
            "Recall : 0.6873\n"
          ]
        }
      ],
      "source": [
        "get_metrics(y_test,y_pred)"
      ],
      "id": "cyYvelgrehbM"
    },
    {
      "cell_type": "code",
      "source": [
        "print_auc_curve(model,X_test,y_test,\"Logistic Regression\")"
      ],
      "metadata": {
        "colab": {
          "base_uri": "https://localhost:8080/",
          "height": 393
        },
        "id": "2wZn6F4bJFQt",
        "outputId": "168553bb-53f2-4a88-dd7b-98042e008880"
      },
      "id": "2wZn6F4bJFQt",
      "execution_count": 76,
      "outputs": [
        {
          "output_type": "stream",
          "name": "stdout",
          "text": [
            "AUC Score 0.740524303341834\n"
          ]
        },
        {
          "output_type": "display_data",
          "data": {
            "text/plain": [
              "<Figure size 576x396 with 1 Axes>"
            ],
            "image/png": "[encoded data removed]"
          },
          "metadata": {}
        }
      ]
    },
    {
      "cell_type": "code",
      "execution_count": 77,
      "metadata": {
        "id": "by7YXOoHeihC",
        "colab": {
          "base_uri": "https://localhost:8080/"
        },
        "outputId": "f82b4c91-e9a4-44fa-c031-d64950037ec9"
      },
      "outputs": [
        {
          "output_type": "execute_result",
          "data": {
            "text/plain": [
              "1.0"
            ]
          },
          "metadata": {},
          "execution_count": 77
        }
      ],
      "source": [
        "# creating a RF classifier\n",
        "model = RandomForestClassifier(n_estimators = 100) \n",
        " \n",
        "# Training the model on the training dataset\n",
        "# fit function is used to train the model using the training sets as parameters\n",
        "model.fit(X_train, y_train)\n",
        " \n",
        "# performing predictions on the test dataset\n",
        "y_pred = model.predict(X_test)\n",
        "\n",
        "model.score(X_train,y_train)"
      ],
      "id": "by7YXOoHeihC"
    },
    {
      "cell_type": "code",
      "execution_count": 78,
      "metadata": {
        "id": "zNoH1zPMem0l",
        "colab": {
          "base_uri": "https://localhost:8080/"
        },
        "outputId": "e4baa75c-5170-49b0-c425-1cc31c7b86a5"
      },
      "outputs": [
        {
          "output_type": "stream",
          "name": "stdout",
          "text": [
            "Accuracy: 0.7274923498147849\n",
            "Confusion matrix\n",
            "\n",
            " [[2297  840]\n",
            " [ 852 2220]]\n",
            "\n",
            "True Positives(TP) =  2297\n",
            "\n",
            "True Negatives(TN) =  2220\n",
            "\n",
            "False Positives(FP) =  840\n",
            "\n",
            "False Negatives(FN) =  852\n",
            "              precision    recall  f1-score   support\n",
            "\n",
            "           0       0.73      0.73      0.73      3137\n",
            "           1       0.73      0.72      0.72      3072\n",
            "\n",
            "    accuracy                           0.73      6209\n",
            "   macro avg       0.73      0.73      0.73      6209\n",
            "weighted avg       0.73      0.73      0.73      6209\n",
            "\n",
            "Precision : 0.7322\n",
            "Recall : 0.7294\n"
          ]
        }
      ],
      "source": [
        "get_metrics(y_test,y_pred)"
      ],
      "id": "zNoH1zPMem0l"
    },
    {
      "cell_type": "code",
      "source": [
        "print_auc_curve(model,X_test,y_test,\"Random Forrest\")"
      ],
      "metadata": {
        "colab": {
          "base_uri": "https://localhost:8080/",
          "height": 393
        },
        "id": "LK0bil6TD3km",
        "outputId": "d60bf1b5-0dd4-4b35-f87e-f6eb996a05de"
      },
      "id": "LK0bil6TD3km",
      "execution_count": 79,
      "outputs": [
        {
          "output_type": "stream",
          "name": "stdout",
          "text": [
            "AUC Score 0.8009751408757039\n"
          ]
        },
        {
          "output_type": "display_data",
          "data": {
            "text/plain": [
              "<Figure size 576x396 with 1 Axes>"
            ],
            "image/png": "[encoded data removed]"
          },
          "metadata": {}
        }
      ]
    },
    {
      "cell_type": "markdown",
      "source": [
        "Undersampling seems to be creating better models for our data. Also, the ensemble algorithm - RandomForrest classifier seems to be giving us the best result so far. "
      ],
      "metadata": {
        "id": "S2sUSx2TOiK4"
      },
      "id": "S2sUSx2TOiK4"
    },
    {
      "cell_type": "code",
      "source": [
        "'''prob = model.predict_proba(X_test)\n",
        "y_pred_prob =[]\n",
        "for p in prob:\n",
        "  y_pred_prob.append(1 if p[1]>=0.4 else 0)\n",
        "print(y_pred_prob)'''"
      ],
      "metadata": {
        "colab": {
          "base_uri": "https://localhost:8080/",
          "height": 36
        },
        "id": "0XwrqOkPHBGx",
        "outputId": "cd2c728d-4d15-4ceb-b579-0cf8d82d96cf"
      },
      "id": "0XwrqOkPHBGx",
      "execution_count": 80,
      "outputs": [
        {
          "output_type": "execute_result",
          "data": {
            "text/plain": [
              "'prob = model.predict_proba(X_test)\\ny_pred_prob =[]\\nfor p in prob:\\n  y_pred_prob.append(1 if p[1]>=0.4 else 0)\\nprint(y_pred_prob)'"
            ],
            "application/vnd.google.colaboratory.intrinsic+json": {
              "type": "string"
            }
          },
          "metadata": {},
          "execution_count": 80
        }
      ]
    },
    {
      "cell_type": "markdown",
      "source": [
        "<u> Hyperparameter Tuning with Grid Search CV</u> <br>\n",
        "Logistic Regression has couple of hyperparameters which we can tune to get better results. We can do a Grid Search to find the best values for these parameters Logistic Regression has two parameters 'C' and 'penalty' to be optimised by GridSearchCV. Random Forest has few parameters as well and we can try to experiment with them"
      ],
      "metadata": {
        "id": "5lsFHnsv1DDQ"
      },
      "id": "5lsFHnsv1DDQ"
    },
    {
      "cell_type": "code",
      "source": [
        "# Create first pipeline for base without reducing features.\n",
        "from sklearn.pipeline import Pipeline\n",
        "from sklearn.model_selection import GridSearchCV\n",
        "pipe = Pipeline([('classifier' , RandomForestClassifier())])\n",
        "# pipe = Pipeline([('classifier', RandomForestClassifier())])\n",
        "\n",
        "# Create param grid.\n",
        "\n",
        "param_grid = [{'classifier' : [RandomForestClassifier()],\n",
        "    'classifier__n_estimators' : list(range(10,101,10)),\n",
        "    'classifier__max_features' : list(range(10,50,10)),\n",
        "    'classifier__criterion':['gini','entropy'],\n",
        "    'classifier__bootstrap':[True,False],\n",
        "    'classifier__class_weight':['balanced','balanced_subsample',None]\n",
        "    }]\n",
        "    #{'classifier' : [LogisticRegression()],\n",
        "    # 'classifier__penalty' : ['l1', 'l2'],\n",
        "    #'classifier__C' : np.logspace(-4, 4, 20),\n",
        "    #'classifier__solver' : ['liblinear']},'''\n",
        "    \n",
        "\n",
        "# Create grid search object\n",
        "\n",
        "clf = GridSearchCV(pipe, param_grid = param_grid, cv = 5, verbose=True, n_jobs=-1)\n",
        "\n",
        "# Fit on data\n",
        "\n",
        "best_clf = clf.fit(X_train, y_train)"
      ],
      "metadata": {
        "colab": {
          "base_uri": "https://localhost:8080/"
        },
        "id": "krz6E_or04Dj",
        "outputId": "d7f541ee-f258-467f-d89f-3e6f0ac145b4"
      },
      "id": "krz6E_or04Dj",
      "execution_count": 82,
      "outputs": [
        {
          "output_type": "stream",
          "name": "stdout",
          "text": [
            "Fitting 5 folds for each of 480 candidates, totalling 2400 fits\n"
          ]
        }
      ]
    },
    {
      "cell_type": "code",
      "execution_count": 83,
      "metadata": {
        "id": "598c1de9-3297-490e-9d7d-3c324f31bf04",
        "colab": {
          "base_uri": "https://localhost:8080/"
        },
        "outputId": "9b4cdf39-ad24-49f2-ac0d-34fe0cf7ca53"
      },
      "outputs": [
        {
          "output_type": "execute_result",
          "data": {
            "text/plain": [
              "GridSearchCV(cv=5,\n",
              "             estimator=Pipeline(steps=[('classifier',\n",
              "                                        RandomForestClassifier())]),\n",
              "             n_jobs=-1,\n",
              "             param_grid=[{'classifier': [RandomForestClassifier(bootstrap=False,\n",
              "                                                                class_weight='balanced',\n",
              "                                                                max_features=10,\n",
              "                                                                n_estimators=90)],\n",
              "                          'classifier__bootstrap': [True, False],\n",
              "                          'classifier__class_weight': ['balanced',\n",
              "                                                       'balanced_subsample',\n",
              "                                                       None],\n",
              "                          'classifier__criterion': ['gini', 'entropy'],\n",
              "                          'classifier__max_features': [10, 20, 30, 40],\n",
              "                          'classifier__n_estimators': [10, 20, 30, 40, 50, 60,\n",
              "                                                       70, 80, 90, 100]}],\n",
              "             verbose=True)"
            ]
          },
          "metadata": {},
          "execution_count": 83
        }
      ],
      "source": [
        "best_clf"
      ],
      "id": "598c1de9-3297-490e-9d7d-3c324f31bf04"
    },
    {
      "cell_type": "code",
      "source": [
        "best_clf.best_estimator_\n"
      ],
      "metadata": {
        "colab": {
          "base_uri": "https://localhost:8080/"
        },
        "id": "u4nrmWksS4w3",
        "outputId": "b2004ec6-d685-47eb-dd6c-b769c0931ad6"
      },
      "id": "u4nrmWksS4w3",
      "execution_count": 84,
      "outputs": [
        {
          "output_type": "execute_result",
          "data": {
            "text/plain": [
              "Pipeline(steps=[('classifier',\n",
              "                 RandomForestClassifier(bootstrap=False,\n",
              "                                        class_weight='balanced',\n",
              "                                        max_features=10, n_estimators=90))])"
            ]
          },
          "metadata": {},
          "execution_count": 84
        }
      ]
    },
    {
      "cell_type": "code",
      "source": [
        "print(best_clf.best_params_,best_clf.best_score_)"
      ],
      "metadata": {
        "colab": {
          "base_uri": "https://localhost:8080/"
        },
        "id": "QyGIns2PTNqd",
        "outputId": "e1ba6578-cee6-4756-defb-073ee8815a8b"
      },
      "id": "QyGIns2PTNqd",
      "execution_count": 85,
      "outputs": [
        {
          "output_type": "stream",
          "name": "stdout",
          "text": [
            "{'classifier': RandomForestClassifier(bootstrap=False, class_weight='balanced',\n",
            "                       max_features=10, n_estimators=90), 'classifier__bootstrap': False, 'classifier__class_weight': 'balanced', 'classifier__criterion': 'gini', 'classifier__max_features': 10, 'classifier__n_estimators': 90} 0.7212885906040268\n"
          ]
        }
      ]
    },
    {
      "cell_type": "code",
      "source": [
        "# creating a RF classifier\n",
        "model = best_clf.best_estimator_\n",
        " \n",
        "# Training the model on the training dataset\n",
        "# fit function is used to train the model using the training sets as parameters\n",
        "model.fit(X_train, y_train)\n",
        " \n",
        "# performing predictions on the test dataset\n",
        "y_pred = model.predict(X_test)\n",
        "\n",
        "model.score(X_train,y_train)"
      ],
      "metadata": {
        "colab": {
          "base_uri": "https://localhost:8080/"
        },
        "id": "RDUrWOkcThHL",
        "outputId": "3cd83434-83e9-434e-daf9-f61e5046d166"
      },
      "id": "RDUrWOkcThHL",
      "execution_count": 86,
      "outputs": [
        {
          "output_type": "execute_result",
          "data": {
            "text/plain": [
              "1.0"
            ]
          },
          "metadata": {},
          "execution_count": 86
        }
      ]
    },
    {
      "cell_type": "code",
      "source": [
        "get_metrics(y_test,y_pred)"
      ],
      "metadata": {
        "colab": {
          "base_uri": "https://localhost:8080/"
        },
        "id": "zXsjz5D1T-mq",
        "outputId": "b3437177-8800-42c3-bd27-b22cf1f20f33"
      },
      "id": "zXsjz5D1T-mq",
      "execution_count": 87,
      "outputs": [
        {
          "output_type": "stream",
          "name": "stdout",
          "text": [
            "Accuracy: 0.7300692543082622\n",
            "Confusion matrix\n",
            "\n",
            " [[2296  841]\n",
            " [ 835 2237]]\n",
            "\n",
            "True Positives(TP) =  2296\n",
            "\n",
            "True Negatives(TN) =  2237\n",
            "\n",
            "False Positives(FP) =  841\n",
            "\n",
            "False Negatives(FN) =  835\n",
            "              precision    recall  f1-score   support\n",
            "\n",
            "           0       0.73      0.73      0.73      3137\n",
            "           1       0.73      0.73      0.73      3072\n",
            "\n",
            "    accuracy                           0.73      6209\n",
            "   macro avg       0.73      0.73      0.73      6209\n",
            "weighted avg       0.73      0.73      0.73      6209\n",
            "\n",
            "Precision : 0.7319\n",
            "Recall : 0.7333\n"
          ]
        }
      ]
    },
    {
      "cell_type": "code",
      "source": [
        "print_auc_curve(model,X_test,y_test,\"Random Forrest\")"
      ],
      "metadata": {
        "colab": {
          "base_uri": "https://localhost:8080/",
          "height": 393
        },
        "id": "o6yeK-ZAUHsQ",
        "outputId": "3f360d78-6dac-445e-eb3f-b775e7fee702"
      },
      "id": "o6yeK-ZAUHsQ",
      "execution_count": 88,
      "outputs": [
        {
          "output_type": "stream",
          "name": "stdout",
          "text": [
            "AUC Score 0.8031569190973329\n"
          ]
        },
        {
          "output_type": "display_data",
          "data": {
            "text/plain": [
              "<Figure size 576x396 with 1 Axes>"
            ],
            "image/png": "[encoded data removed]"
          },
          "metadata": {}
        }
      ]
    },
    {
      "cell_type": "markdown",
      "source": [
        "<u>Cross Validation</u>"
      ],
      "metadata": {
        "id": "zQOVdtMe2jiW"
      },
      "id": "zQOVdtMe2jiW"
    },
    {
      "cell_type": "code",
      "source": [
        "from sklearn.model_selection import StratifiedKFold\n",
        "cv = StratifiedKFold(n_splits=5, random_state=123, shuffle=True)\n",
        "    \n",
        "for (train, test), i in zip(cv.split(X, y), range(5)):\n",
        "    model.fit(X.iloc[train], y.iloc[train])\n"
      ],
      "metadata": {
        "id": "JhKc5X-eYIiA"
      },
      "id": "JhKc5X-eYIiA",
      "execution_count": 89,
      "outputs": []
    },
    {
      "cell_type": "code",
      "source": [
        "get_metrics(y_test,y_pred)"
      ],
      "metadata": {
        "colab": {
          "base_uri": "https://localhost:8080/"
        },
        "id": "ts_lpofm2G3B",
        "outputId": "efcc3c5c-8ddc-4424-cba5-f9a8cee4b47b"
      },
      "id": "ts_lpofm2G3B",
      "execution_count": 90,
      "outputs": [
        {
          "output_type": "stream",
          "name": "stdout",
          "text": [
            "Accuracy: 0.7300692543082622\n",
            "Confusion matrix\n",
            "\n",
            " [[2296  841]\n",
            " [ 835 2237]]\n",
            "\n",
            "True Positives(TP) =  2296\n",
            "\n",
            "True Negatives(TN) =  2237\n",
            "\n",
            "False Positives(FP) =  841\n",
            "\n",
            "False Negatives(FN) =  835\n",
            "              precision    recall  f1-score   support\n",
            "\n",
            "           0       0.73      0.73      0.73      3137\n",
            "           1       0.73      0.73      0.73      3072\n",
            "\n",
            "    accuracy                           0.73      6209\n",
            "   macro avg       0.73      0.73      0.73      6209\n",
            "weighted avg       0.73      0.73      0.73      6209\n",
            "\n",
            "Precision : 0.7319\n",
            "Recall : 0.7333\n"
          ]
        }
      ]
    },
    {
      "cell_type": "code",
      "source": [
        "print_auc_curve(model,X_test,y_test,\"RandomForestCV\")"
      ],
      "metadata": {
        "colab": {
          "base_uri": "https://localhost:8080/",
          "height": 393
        },
        "id": "jHHclW0M2M8w",
        "outputId": "5c8902ae-24f8-4de0-b312-d557386d1900"
      },
      "id": "jHHclW0M2M8w",
      "execution_count": 91,
      "outputs": [
        {
          "output_type": "stream",
          "name": "stdout",
          "text": [
            "AUC Score 0.9925914695901074\n"
          ]
        },
        {
          "output_type": "display_data",
          "data": {
            "text/plain": [
              "<Figure size 576x396 with 1 Axes>"
            ],
            "image/png": "[encoded data removed]"
          },
          "metadata": {}
        }
      ]
    },
    {
      "cell_type": "markdown",
      "source": [
        "RandomForest with Cross Validation and hyperparameters obtained by GridSearchCV, seems to be give the best AUC Score."
      ],
      "metadata": {
        "id": "FABT9Ik32s85"
      },
      "id": "FABT9Ik32s85"
    },
    {
      "cell_type": "markdown",
      "source": [
        "### <u> Saving the model </u>"
      ],
      "metadata": {
        "id": "KOFph5wD3FAi"
      },
      "id": "KOFph5wD3FAi"
    },
    {
      "cell_type": "code",
      "source": [
        "import pickle"
      ],
      "metadata": {
        "id": "fesvtpjV3Dbu"
      },
      "id": "fesvtpjV3Dbu",
      "execution_count": 92,
      "outputs": []
    },
    {
      "cell_type": "code",
      "source": [
        "# save the model to disk\n",
        "filename = 'fraud_detection_model.sav'\n",
        "pickle.dump(model, open(filename, 'wb'))\n",
        " \n",
        " \n",
        "# load the model from disk\n",
        "loaded_model = pickle.load(open(filename, 'rb'))\n"
      ],
      "metadata": {
        "id": "JgCDrkRG3qrL"
      },
      "id": "JgCDrkRG3qrL",
      "execution_count": 95,
      "outputs": []
    }
  ],
  "metadata": {
    "colab": {
      "provenance": []
    },
    "gpuClass": "standard",
    "kernelspec": {
      "display_name": "Python 3 (ipykernel)",
      "language": "python",
      "name": "python3"
    },
    "language_info": {
      "codemirror_mode": {
        "name": "ipython",
        "version": 3
      },
      "file_extension": ".py",
      "mimetype": "text/x-python",
      "name": "python",
      "nbconvert_exporter": "python",
      "pygments_lexer": "ipython3",
      "version": "3.9.7"
    }
  },
  "nbformat": 4,
  "nbformat_minor": 5
}